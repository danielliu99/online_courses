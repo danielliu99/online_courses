{
 "cells": [
  {
   "cell_type": "code",
   "execution_count": 3,
   "id": "d0ad4900",
   "metadata": {},
   "outputs": [],
   "source": [
    "import numpy as np\n",
    "import pandas as pd"
   ]
  },
  {
   "cell_type": "markdown",
   "id": "3453846b",
   "metadata": {},
   "source": [
    "## 1. variables"
   ]
  },
  {
   "cell_type": "code",
   "execution_count": 4,
   "id": "0b694a15",
   "metadata": {},
   "outputs": [
    {
     "data": {
      "text/plain": [
       "5"
      ]
     },
     "execution_count": 4,
     "metadata": {},
     "output_type": "execute_result"
    }
   ],
   "source": [
    "x=5\n",
    "x"
   ]
  },
  {
   "cell_type": "code",
   "execution_count": 5,
   "id": "21b52e0b",
   "metadata": {},
   "outputs": [
    {
     "data": {
      "text/plain": [
       "2.5"
      ]
     },
     "execution_count": 5,
     "metadata": {},
     "output_type": "execute_result"
    }
   ],
   "source": [
    "x*2\n",
    "x**2\n",
    "x/float(2)"
   ]
  },
  {
   "cell_type": "markdown",
   "id": "ec4fad07",
   "metadata": {},
   "source": [
    "## 2. list"
   ]
  },
  {
   "cell_type": "markdown",
   "id": "c499ebfe",
   "metadata": {},
   "source": [
    "### 2.1 一维"
   ]
  },
  {
   "cell_type": "code",
   "execution_count": 6,
   "id": "8cda5dc0",
   "metadata": {},
   "outputs": [
    {
     "data": {
      "text/plain": [
       "['my', 'list', 'is', 2]"
      ]
     },
     "execution_count": 6,
     "metadata": {},
     "output_type": "execute_result"
    }
   ],
   "source": [
    "a='is'\n",
    "b=2\n",
    "list_1 = ['my','list',a,b]\n",
    "list_1"
   ]
  },
  {
   "cell_type": "code",
   "execution_count": 7,
   "id": "fb522e40",
   "metadata": {},
   "outputs": [
    {
     "data": {
      "text/plain": [
       "'my'"
      ]
     },
     "execution_count": 7,
     "metadata": {},
     "output_type": "execute_result"
    }
   ],
   "source": [
    "list_1[0]"
   ]
  },
  {
   "cell_type": "code",
   "execution_count": 8,
   "id": "cf7544e3",
   "metadata": {},
   "outputs": [
    {
     "data": {
      "text/plain": [
       "['list']"
      ]
     },
     "execution_count": 8,
     "metadata": {},
     "output_type": "execute_result"
    }
   ],
   "source": [
    "list_1[1:2]"
   ]
  },
  {
   "cell_type": "code",
   "execution_count": 9,
   "id": "e9274723",
   "metadata": {},
   "outputs": [
    {
     "data": {
      "text/plain": [
       "['my', 'list', 'is', 2, 'my', 'list', 'is', 2]"
      ]
     },
     "execution_count": 9,
     "metadata": {},
     "output_type": "execute_result"
    }
   ],
   "source": [
    "list_1 + list_1"
   ]
  },
  {
   "cell_type": "code",
   "execution_count": 10,
   "id": "082fe52e",
   "metadata": {
    "scrolled": true
   },
   "outputs": [
    {
     "data": {
      "text/plain": [
       "['my', 'list', 'is', 2, 'my', 'list', 'is', 2]"
      ]
     },
     "execution_count": 10,
     "metadata": {},
     "output_type": "execute_result"
    }
   ],
   "source": [
    "list_1 * 2"
   ]
  },
  {
   "cell_type": "code",
   "execution_count": 11,
   "id": "d68287c5",
   "metadata": {},
   "outputs": [
    {
     "data": {
      "text/plain": [
       "0"
      ]
     },
     "execution_count": 11,
     "metadata": {},
     "output_type": "execute_result"
    }
   ],
   "source": [
    "list_1.index('my')"
   ]
  },
  {
   "cell_type": "code",
   "execution_count": 12,
   "id": "e9995b13",
   "metadata": {},
   "outputs": [
    {
     "data": {
      "text/plain": [
       "1"
      ]
     },
     "execution_count": 12,
     "metadata": {},
     "output_type": "execute_result"
    }
   ],
   "source": [
    "list_1.count('is') #计数"
   ]
  },
  {
   "cell_type": "code",
   "execution_count": 13,
   "id": "bcdd43e4",
   "metadata": {},
   "outputs": [
    {
     "data": {
      "text/plain": [
       "['my', 'list', 'is', 2, '!!']"
      ]
     },
     "execution_count": 13,
     "metadata": {},
     "output_type": "execute_result"
    }
   ],
   "source": [
    "list_1.append(\"!!\")\n",
    "list_1"
   ]
  },
  {
   "cell_type": "code",
   "execution_count": 14,
   "id": "e2da9d71",
   "metadata": {},
   "outputs": [
    {
     "data": {
      "text/plain": [
       "'!!'"
      ]
     },
     "execution_count": 14,
     "metadata": {},
     "output_type": "execute_result"
    }
   ],
   "source": [
    "list_1.pop() # 取，但不会删除"
   ]
  },
  {
   "cell_type": "code",
   "execution_count": 15,
   "id": "da46dd5f",
   "metadata": {},
   "outputs": [
    {
     "data": {
      "text/plain": [
       "4"
      ]
     },
     "execution_count": 15,
     "metadata": {},
     "output_type": "execute_result"
    }
   ],
   "source": [
    "len(list_1) #长度"
   ]
  },
  {
   "cell_type": "markdown",
   "id": "d8e5cc5c",
   "metadata": {},
   "source": [
    "### 2.2 二维"
   ]
  },
  {
   "cell_type": "code",
   "execution_count": 16,
   "id": "0a104bc4",
   "metadata": {},
   "outputs": [
    {
     "data": {
      "text/plain": [
       "[[], [], []]"
      ]
     },
     "execution_count": 16,
     "metadata": {},
     "output_type": "execute_result"
    }
   ],
   "source": [
    "lists = [[] for i in range(3)]\n",
    "lists"
   ]
  },
  {
   "cell_type": "code",
   "execution_count": 17,
   "id": "952748f9",
   "metadata": {},
   "outputs": [
    {
     "data": {
      "text/plain": [
       "[[0, 1], [0, 1, 2], [0, 1, 2, 3]]"
      ]
     },
     "execution_count": 17,
     "metadata": {},
     "output_type": "execute_result"
    }
   ],
   "source": [
    "# 重新初始化之后再运行\n",
    "for i in range(2):\n",
    "    lists[0].append(i)\n",
    "for j in range(3):\n",
    "    lists[1].append(j)\n",
    "for k in range(4):\n",
    "    lists[2].append(k)\n",
    "\n",
    "lists"
   ]
  },
  {
   "cell_type": "code",
   "execution_count": 18,
   "id": "a35bc596",
   "metadata": {},
   "outputs": [
    {
     "name": "stdout",
     "output_type": "stream",
     "text": [
      "0\n",
      "1\n",
      "0\n",
      "1\n",
      "2\n",
      "0\n",
      "1\n",
      "2\n",
      "3\n"
     ]
    }
   ],
   "source": [
    "for row in range(len(lists)):\n",
    "    for column in range(len(lists[row])):\n",
    "        print(lists[row][column])"
   ]
  },
  {
   "cell_type": "markdown",
   "id": "ea176906",
   "metadata": {},
   "source": [
    "## 3. numpy array"
   ]
  },
  {
   "cell_type": "code",
   "execution_count": 19,
   "id": "bc97a4c9",
   "metadata": {},
   "outputs": [
    {
     "data": {
      "text/plain": [
       "[1, 2, 3, 4]"
      ]
     },
     "execution_count": 19,
     "metadata": {},
     "output_type": "execute_result"
    }
   ],
   "source": [
    "list_2 = [1,2,3,4]\n",
    "list_2"
   ]
  },
  {
   "cell_type": "code",
   "execution_count": 20,
   "id": "9761fd45",
   "metadata": {},
   "outputs": [
    {
     "data": {
      "text/plain": [
       "array([1, 2, 3, 4])"
      ]
     },
     "execution_count": 20,
     "metadata": {},
     "output_type": "execute_result"
    }
   ],
   "source": [
    "array_1 = np.array(list_2)\n",
    "array_1"
   ]
  },
  {
   "cell_type": "code",
   "execution_count": 21,
   "id": "724f188e",
   "metadata": {},
   "outputs": [
    {
     "data": {
      "text/plain": [
       "array([[1, 2, 3],\n",
       "       [4, 5, 6]])"
      ]
     },
     "execution_count": 21,
     "metadata": {},
     "output_type": "execute_result"
    }
   ],
   "source": [
    "array_2 = np.array([[1,2,3],[4,5,6]]) #两层中括号\n",
    "array_2"
   ]
  },
  {
   "cell_type": "code",
   "execution_count": 22,
   "id": "01118954",
   "metadata": {},
   "outputs": [
    {
     "data": {
      "text/plain": [
       "array([1, 4])"
      ]
     },
     "execution_count": 22,
     "metadata": {},
     "output_type": "execute_result"
    }
   ],
   "source": [
    "array_2[:,0]"
   ]
  },
  {
   "cell_type": "markdown",
   "id": "fe12178d",
   "metadata": {},
   "source": [
    "### 3.1 运算"
   ]
  },
  {
   "cell_type": "code",
   "execution_count": 23,
   "id": "68d8205f",
   "metadata": {},
   "outputs": [
    {
     "data": {
      "text/plain": [
       "array([[False, False,  True],\n",
       "       [ True,  True,  True]])"
      ]
     },
     "execution_count": 23,
     "metadata": {},
     "output_type": "execute_result"
    }
   ],
   "source": [
    "array_2 > 2"
   ]
  },
  {
   "cell_type": "code",
   "execution_count": 24,
   "id": "d1f4bd8c",
   "metadata": {
    "scrolled": true
   },
   "outputs": [
    {
     "data": {
      "text/plain": [
       "array([[ 2,  4,  6],\n",
       "       [ 8, 10, 12]])"
      ]
     },
     "execution_count": 24,
     "metadata": {},
     "output_type": "execute_result"
    }
   ],
   "source": [
    "array_2 * 2"
   ]
  },
  {
   "cell_type": "code",
   "execution_count": 25,
   "id": "535a2b45",
   "metadata": {
    "scrolled": true
   },
   "outputs": [
    {
     "data": {
      "text/plain": [
       "array([[ 8, 10, 12],\n",
       "       [11, 13, 15]])"
      ]
     },
     "execution_count": 25,
     "metadata": {},
     "output_type": "execute_result"
    }
   ],
   "source": [
    "array_2 + np.array([7,8,9])"
   ]
  },
  {
   "cell_type": "markdown",
   "id": "d236029f",
   "metadata": {},
   "source": [
    "### 3.2 函数（方法）"
   ]
  },
  {
   "cell_type": "code",
   "execution_count": 26,
   "id": "4bb6278d",
   "metadata": {},
   "outputs": [
    {
     "data": {
      "text/plain": [
       "(2, 3)"
      ]
     },
     "execution_count": 26,
     "metadata": {},
     "output_type": "execute_result"
    }
   ],
   "source": [
    "array_2.shape"
   ]
  },
  {
   "cell_type": "code",
   "execution_count": 27,
   "id": "8077473e",
   "metadata": {},
   "outputs": [
    {
     "data": {
      "text/plain": [
       "array([[1, 2, 3],\n",
       "       [4, 5, 6],\n",
       "       [7, 8, 9]])"
      ]
     },
     "execution_count": 27,
     "metadata": {},
     "output_type": "execute_result"
    }
   ],
   "source": [
    "#axis=0加入一行\n",
    "np.append(array_2, np.array([[7,8,9]]),axis=0)"
   ]
  },
  {
   "cell_type": "markdown",
   "id": "ca5b9ac5",
   "metadata": {},
   "source": [
    "### 3.3 统计"
   ]
  },
  {
   "cell_type": "code",
   "execution_count": 28,
   "id": "f9feea7a",
   "metadata": {},
   "outputs": [],
   "source": [
    "array_1 = np.array([1,2,3,4,5])"
   ]
  },
  {
   "cell_type": "code",
   "execution_count": 29,
   "id": "650b162f",
   "metadata": {
    "scrolled": false
   },
   "outputs": [
    {
     "data": {
      "text/plain": [
       "3.0"
      ]
     },
     "execution_count": 29,
     "metadata": {},
     "output_type": "execute_result"
    }
   ],
   "source": [
    "np.mean(array_1)"
   ]
  },
  {
   "cell_type": "code",
   "execution_count": 30,
   "id": "5ccfb081",
   "metadata": {
    "scrolled": true
   },
   "outputs": [
    {
     "data": {
      "text/plain": [
       "3.0"
      ]
     },
     "execution_count": 30,
     "metadata": {},
     "output_type": "execute_result"
    }
   ],
   "source": [
    "np.median(array_1)"
   ]
  },
  {
   "cell_type": "code",
   "execution_count": 31,
   "id": "635da98d",
   "metadata": {},
   "outputs": [
    {
     "data": {
      "text/plain": [
       "2.0"
      ]
     },
     "execution_count": 31,
     "metadata": {},
     "output_type": "execute_result"
    }
   ],
   "source": [
    "#numpy按照总体来计算，除以的是N\n",
    "np.var(array_1)"
   ]
  },
  {
   "cell_type": "code",
   "execution_count": 32,
   "id": "3d66efe1",
   "metadata": {
    "scrolled": true
   },
   "outputs": [
    {
     "data": {
      "text/plain": [
       "1.4142135623730951"
      ]
     },
     "execution_count": 32,
     "metadata": {},
     "output_type": "execute_result"
    }
   ],
   "source": [
    "np.std(array_1)"
   ]
  },
  {
   "cell_type": "code",
   "execution_count": null,
   "id": "d564ddd9",
   "metadata": {},
   "outputs": [],
   "source": []
  },
  {
   "cell_type": "markdown",
   "id": "2c2a103a",
   "metadata": {},
   "source": [
    "## 4. NumPy"
   ]
  },
  {
   "cell_type": "markdown",
   "id": "5f27f5f1",
   "metadata": {},
   "source": [
    "### 4.1 创建numpy array"
   ]
  },
  {
   "cell_type": "code",
   "execution_count": 33,
   "id": "264c09f6",
   "metadata": {},
   "outputs": [
    {
     "data": {
      "text/plain": [
       "array([1, 2, 3])"
      ]
     },
     "execution_count": 33,
     "metadata": {},
     "output_type": "execute_result"
    }
   ],
   "source": [
    "# 1-dimension (可以看作2维的特殊情况？)\n",
    "a = np.array([1,2,3])\n",
    "a"
   ]
  },
  {
   "cell_type": "code",
   "execution_count": 34,
   "id": "b5fbec31",
   "metadata": {},
   "outputs": [
    {
     "data": {
      "text/plain": [
       "array([[1.5, 2. , 3. ],\n",
       "       [4. , 5. , 6. ]])"
      ]
     },
     "execution_count": 34,
     "metadata": {},
     "output_type": "execute_result"
    }
   ],
   "source": [
    "# 2-dimension\n",
    "b = np.array([(1.5,2,3), (4,5,6)], dtype = float)\n",
    "b"
   ]
  },
  {
   "cell_type": "code",
   "execution_count": 35,
   "id": "ff3aae0a",
   "metadata": {},
   "outputs": [
    {
     "data": {
      "text/plain": [
       "array([[[1.5, 2. , 3. ],\n",
       "        [4. , 5. , 6. ]],\n",
       "\n",
       "       [[3. , 2. , 1. ],\n",
       "        [4. , 5. , 6. ]]])"
      ]
     },
     "execution_count": 35,
     "metadata": {},
     "output_type": "execute_result"
    }
   ],
   "source": [
    "# 3-dimension\n",
    "c = np.array([[(1.5,2,3),(4,5,6)], [(3,2,1),(4,5,6)]], \n",
    "             dtype = float)\n",
    "c"
   ]
  },
  {
   "cell_type": "markdown",
   "id": "aa2092a2",
   "metadata": {},
   "source": [
    "### 4.2 初始化array（供后续使用）"
   ]
  },
  {
   "cell_type": "code",
   "execution_count": 36,
   "id": "dcea53df",
   "metadata": {
    "scrolled": true
   },
   "outputs": [
    {
     "data": {
      "text/plain": [
       "array([[0., 0., 0., 0.],\n",
       "       [0., 0., 0., 0.],\n",
       "       [0., 0., 0., 0.]])"
      ]
     },
     "execution_count": 36,
     "metadata": {},
     "output_type": "execute_result"
    }
   ],
   "source": [
    "np.zeros((3,4))"
   ]
  },
  {
   "cell_type": "code",
   "execution_count": 37,
   "id": "020c87af",
   "metadata": {
    "scrolled": true
   },
   "outputs": [
    {
     "data": {
      "text/plain": [
       "array([[[1., 1., 1., 1.],\n",
       "        [1., 1., 1., 1.],\n",
       "        [1., 1., 1., 1.]],\n",
       "\n",
       "       [[1., 1., 1., 1.],\n",
       "        [1., 1., 1., 1.],\n",
       "        [1., 1., 1., 1.]]])"
      ]
     },
     "execution_count": 37,
     "metadata": {},
     "output_type": "execute_result"
    }
   ],
   "source": [
    "np.ones((2,3,4))"
   ]
  },
  {
   "cell_type": "code",
   "execution_count": 38,
   "id": "b0bb0a14",
   "metadata": {},
   "outputs": [
    {
     "data": {
      "text/plain": [
       "array([1, 4, 7])"
      ]
     },
     "execution_count": 38,
     "metadata": {},
     "output_type": "execute_result"
    }
   ],
   "source": [
    "# 指定间距\n",
    "np.arange(1,10,3)"
   ]
  },
  {
   "cell_type": "code",
   "execution_count": 39,
   "id": "5ac07f57",
   "metadata": {},
   "outputs": [
    {
     "data": {
      "text/plain": [
       "array([1.        , 1.14285714, 1.28571429, 1.42857143, 1.57142857,\n",
       "       1.71428571, 1.85714286, 2.        ])"
      ]
     },
     "execution_count": 39,
     "metadata": {},
     "output_type": "execute_result"
    }
   ],
   "source": [
    "# 指定个数\n",
    "np.linspace(1,2,8)"
   ]
  },
  {
   "cell_type": "code",
   "execution_count": 40,
   "id": "149d11c2",
   "metadata": {},
   "outputs": [
    {
     "data": {
      "text/plain": [
       "array([[1., 0., 0.],\n",
       "       [0., 1., 0.],\n",
       "       [0., 0., 1.]])"
      ]
     },
     "execution_count": 40,
     "metadata": {},
     "output_type": "execute_result"
    }
   ],
   "source": [
    "# 对角1 (identity matrix)\n",
    "np.eye(3)"
   ]
  },
  {
   "cell_type": "code",
   "execution_count": 41,
   "id": "5a6d2f3f",
   "metadata": {},
   "outputs": [
    {
     "data": {
      "text/plain": [
       "array([], shape=(2, 0), dtype=float64)"
      ]
     },
     "execution_count": 41,
     "metadata": {},
     "output_type": "execute_result"
    }
   ],
   "source": [
    "np.random.random((2,0))"
   ]
  },
  {
   "cell_type": "markdown",
   "id": "6b59ff1e",
   "metadata": {},
   "source": [
    "### 4.3 检查array"
   ]
  },
  {
   "cell_type": "code",
   "execution_count": 42,
   "id": "8b58dc55",
   "metadata": {
    "scrolled": true
   },
   "outputs": [
    {
     "data": {
      "text/plain": [
       "(2, 2, 3)"
      ]
     },
     "execution_count": 42,
     "metadata": {},
     "output_type": "execute_result"
    }
   ],
   "source": [
    "c.shape"
   ]
  },
  {
   "cell_type": "code",
   "execution_count": 43,
   "id": "41d9ab3a",
   "metadata": {},
   "outputs": [
    {
     "data": {
      "text/plain": [
       "2"
      ]
     },
     "execution_count": 43,
     "metadata": {},
     "output_type": "execute_result"
    }
   ],
   "source": [
    "# 这个有意思\n",
    "len(c)"
   ]
  },
  {
   "cell_type": "code",
   "execution_count": 44,
   "id": "0eca0a46",
   "metadata": {},
   "outputs": [
    {
     "data": {
      "text/plain": [
       "3"
      ]
     },
     "execution_count": 44,
     "metadata": {},
     "output_type": "execute_result"
    }
   ],
   "source": [
    "c.ndim"
   ]
  },
  {
   "cell_type": "code",
   "execution_count": 45,
   "id": "a22037d7",
   "metadata": {},
   "outputs": [
    {
     "data": {
      "text/plain": [
       "12"
      ]
     },
     "execution_count": 45,
     "metadata": {},
     "output_type": "execute_result"
    }
   ],
   "source": [
    "c.size"
   ]
  },
  {
   "cell_type": "code",
   "execution_count": 46,
   "id": "8cd6aa5d",
   "metadata": {
    "scrolled": true
   },
   "outputs": [
    {
     "data": {
      "text/plain": [
       "dtype('float64')"
      ]
     },
     "execution_count": 46,
     "metadata": {},
     "output_type": "execute_result"
    }
   ],
   "source": [
    "c.dtype"
   ]
  },
  {
   "cell_type": "markdown",
   "id": "a5c90de5",
   "metadata": {},
   "source": [
    "### 4.4 数学计算"
   ]
  },
  {
   "cell_type": "code",
   "execution_count": 47,
   "id": "bafc981a",
   "metadata": {},
   "outputs": [
    {
     "data": {
      "text/plain": [
       "array([[-0.5,  0. ,  0. ],\n",
       "       [-3. , -3. , -3. ]])"
      ]
     },
     "execution_count": 47,
     "metadata": {},
     "output_type": "execute_result"
    }
   ],
   "source": [
    "a-b"
   ]
  },
  {
   "cell_type": "code",
   "execution_count": 48,
   "id": "f43d4d20",
   "metadata": {
    "scrolled": true
   },
   "outputs": [
    {
     "data": {
      "text/plain": [
       "array([[ 1.5,  4. ,  9. ],\n",
       "       [ 4. , 10. , 18. ]])"
      ]
     },
     "execution_count": 48,
     "metadata": {},
     "output_type": "execute_result"
    }
   ],
   "source": [
    "a*b"
   ]
  },
  {
   "cell_type": "code",
   "execution_count": 49,
   "id": "debdefb7",
   "metadata": {},
   "outputs": [
    {
     "data": {
      "text/plain": [
       "array([ 2.71828183,  7.3890561 , 20.08553692])"
      ]
     },
     "execution_count": 49,
     "metadata": {},
     "output_type": "execute_result"
    }
   ],
   "source": [
    "np.exp(a)"
   ]
  },
  {
   "cell_type": "code",
   "execution_count": 50,
   "id": "357db44a",
   "metadata": {
    "scrolled": true
   },
   "outputs": [
    {
     "data": {
      "text/plain": [
       "array([[1.22474487, 1.41421356, 1.73205081],\n",
       "       [2.        , 2.23606798, 2.44948974]])"
      ]
     },
     "execution_count": 50,
     "metadata": {},
     "output_type": "execute_result"
    }
   ],
   "source": [
    "np.sqrt(b)"
   ]
  },
  {
   "cell_type": "markdown",
   "id": "df66b1e3",
   "metadata": {},
   "source": [
    "### 4.5 比较"
   ]
  },
  {
   "cell_type": "code",
   "execution_count": 51,
   "id": "2bf1dd8e",
   "metadata": {
    "scrolled": true
   },
   "outputs": [
    {
     "data": {
      "text/plain": [
       "array([[False,  True,  True],\n",
       "       [False, False, False]])"
      ]
     },
     "execution_count": 51,
     "metadata": {},
     "output_type": "execute_result"
    }
   ],
   "source": [
    "# 注意返回的结果\n",
    "a == b"
   ]
  },
  {
   "cell_type": "markdown",
   "id": "bbac6914",
   "metadata": {},
   "source": [
    "### 4.6 总体情况"
   ]
  },
  {
   "cell_type": "code",
   "execution_count": 52,
   "id": "b1c3cde6",
   "metadata": {
    "scrolled": true
   },
   "outputs": [
    {
     "data": {
      "text/plain": [
       "21.5"
      ]
     },
     "execution_count": 52,
     "metadata": {},
     "output_type": "execute_result"
    }
   ],
   "source": [
    "b.sum()"
   ]
  },
  {
   "cell_type": "code",
   "execution_count": 53,
   "id": "2c0b8bd7",
   "metadata": {},
   "outputs": [
    {
     "data": {
      "text/plain": [
       "1.5"
      ]
     },
     "execution_count": 53,
     "metadata": {},
     "output_type": "execute_result"
    }
   ],
   "source": [
    "b.min()"
   ]
  },
  {
   "cell_type": "code",
   "execution_count": 54,
   "id": "ee3c0dbe",
   "metadata": {},
   "outputs": [
    {
     "data": {
      "text/plain": [
       "3.5833333333333335"
      ]
     },
     "execution_count": 54,
     "metadata": {},
     "output_type": "execute_result"
    }
   ],
   "source": [
    "# 所以两种写法都可以\n",
    "b.mean()"
   ]
  },
  {
   "cell_type": "code",
   "execution_count": 55,
   "id": "f9cc02f0",
   "metadata": {
    "scrolled": true
   },
   "outputs": [
    {
     "data": {
      "text/plain": [
       "1.5920810978785667"
      ]
     },
     "execution_count": 55,
     "metadata": {},
     "output_type": "execute_result"
    }
   ],
   "source": [
    "b.std()"
   ]
  },
  {
   "cell_type": "markdown",
   "id": "76772ede",
   "metadata": {},
   "source": [
    "### 4.7 切片"
   ]
  },
  {
   "cell_type": "code",
   "execution_count": 56,
   "id": "593df710",
   "metadata": {
    "scrolled": true
   },
   "outputs": [
    {
     "data": {
      "text/plain": [
       "array([2., 5.])"
      ]
     },
     "execution_count": 56,
     "metadata": {},
     "output_type": "execute_result"
    }
   ],
   "source": [
    "b[0:2,1]"
   ]
  },
  {
   "cell_type": "markdown",
   "id": "19e17541",
   "metadata": {},
   "source": [
    "### 4.8 变形"
   ]
  },
  {
   "cell_type": "code",
   "execution_count": 57,
   "id": "f94ac40a",
   "metadata": {},
   "outputs": [
    {
     "data": {
      "text/plain": [
       "array([[1.5, 2. ],\n",
       "       [3. , 4. ],\n",
       "       [5. , 6. ]])"
      ]
     },
     "execution_count": 57,
     "metadata": {},
     "output_type": "execute_result"
    }
   ],
   "source": [
    "b.reshape(3,2) # 不改变原值"
   ]
  },
  {
   "cell_type": "code",
   "execution_count": 58,
   "id": "bb30c01a",
   "metadata": {},
   "outputs": [
    {
     "data": {
      "text/plain": [
       "array([[1. , 2. , 3. ],\n",
       "       [1.5, 2. , 3. ],\n",
       "       [4. , 5. , 6. ]])"
      ]
     },
     "execution_count": 58,
     "metadata": {},
     "output_type": "execute_result"
    }
   ],
   "source": [
    "np.concatenate(([a],b),axis=0)"
   ]
  },
  {
   "cell_type": "markdown",
   "id": "1c741bbf",
   "metadata": {},
   "source": [
    "## 5. Pandas"
   ]
  },
  {
   "cell_type": "markdown",
   "id": "db24b35d",
   "metadata": {},
   "source": [
    "### 5.1 数据结构"
   ]
  },
  {
   "cell_type": "code",
   "execution_count": 59,
   "id": "6d4f2e8e",
   "metadata": {},
   "outputs": [
    {
     "data": {
      "text/plain": [
       "a    3\n",
       "b   -5\n",
       "c    7\n",
       "d    4\n",
       "dtype: int64"
      ]
     },
     "execution_count": 59,
     "metadata": {},
     "output_type": "execute_result"
    }
   ],
   "source": [
    "# Series\n",
    "s = pd.Series([3, -5, 7, 4], index=['a','b','c','d'])\n",
    "s"
   ]
  },
  {
   "cell_type": "code",
   "execution_count": 60,
   "id": "23842a2b",
   "metadata": {},
   "outputs": [
    {
     "data": {
      "text/html": [
       "<div>\n",
       "<style scoped>\n",
       "    .dataframe tbody tr th:only-of-type {\n",
       "        vertical-align: middle;\n",
       "    }\n",
       "\n",
       "    .dataframe tbody tr th {\n",
       "        vertical-align: top;\n",
       "    }\n",
       "\n",
       "    .dataframe thead th {\n",
       "        text-align: right;\n",
       "    }\n",
       "</style>\n",
       "<table border=\"1\" class=\"dataframe\">\n",
       "  <thead>\n",
       "    <tr style=\"text-align: right;\">\n",
       "      <th></th>\n",
       "      <th>Country</th>\n",
       "      <th>Capital</th>\n",
       "      <th>Population</th>\n",
       "    </tr>\n",
       "  </thead>\n",
       "  <tbody>\n",
       "    <tr>\n",
       "      <th>0</th>\n",
       "      <td>Belgium</td>\n",
       "      <td>Brussels</td>\n",
       "      <td>11190846</td>\n",
       "    </tr>\n",
       "    <tr>\n",
       "      <th>1</th>\n",
       "      <td>India</td>\n",
       "      <td>New Delhi</td>\n",
       "      <td>1303171035</td>\n",
       "    </tr>\n",
       "    <tr>\n",
       "      <th>2</th>\n",
       "      <td>Brazil</td>\n",
       "      <td>Brasilia</td>\n",
       "      <td>207847528</td>\n",
       "    </tr>\n",
       "  </tbody>\n",
       "</table>\n",
       "</div>"
      ],
      "text/plain": [
       "   Country    Capital  Population\n",
       "0  Belgium   Brussels    11190846\n",
       "1    India  New Delhi  1303171035\n",
       "2   Brazil   Brasilia   207847528"
      ]
     },
     "execution_count": 60,
     "metadata": {},
     "output_type": "execute_result"
    }
   ],
   "source": [
    "# DataFrame\n",
    "df = pd.DataFrame(\n",
    "{\n",
    "    'Country':['Belgium','India','Brazil'],\n",
    "    'Capital':['Brussels','New Delhi','Brasilia'],\n",
    "    'Population':[11190846,1303171035,207847528]\n",
    "},\n",
    "columns=['Country','Capital','Population'])\n",
    "df"
   ]
  },
  {
   "cell_type": "markdown",
   "id": "cdf95522",
   "metadata": {},
   "source": [
    "### 5.2 取数"
   ]
  },
  {
   "cell_type": "code",
   "execution_count": 61,
   "id": "e242ff64",
   "metadata": {},
   "outputs": [
    {
     "data": {
      "text/plain": [
       "-5"
      ]
     },
     "execution_count": 61,
     "metadata": {},
     "output_type": "execute_result"
    }
   ],
   "source": [
    "s['b']"
   ]
  },
  {
   "cell_type": "code",
   "execution_count": 62,
   "id": "569da2d6",
   "metadata": {
    "scrolled": true
   },
   "outputs": [
    {
     "data": {
      "text/html": [
       "<div>\n",
       "<style scoped>\n",
       "    .dataframe tbody tr th:only-of-type {\n",
       "        vertical-align: middle;\n",
       "    }\n",
       "\n",
       "    .dataframe tbody tr th {\n",
       "        vertical-align: top;\n",
       "    }\n",
       "\n",
       "    .dataframe thead th {\n",
       "        text-align: right;\n",
       "    }\n",
       "</style>\n",
       "<table border=\"1\" class=\"dataframe\">\n",
       "  <thead>\n",
       "    <tr style=\"text-align: right;\">\n",
       "      <th></th>\n",
       "      <th>Country</th>\n",
       "      <th>Capital</th>\n",
       "      <th>Population</th>\n",
       "    </tr>\n",
       "  </thead>\n",
       "  <tbody>\n",
       "    <tr>\n",
       "      <th>1</th>\n",
       "      <td>India</td>\n",
       "      <td>New Delhi</td>\n",
       "      <td>1303171035</td>\n",
       "    </tr>\n",
       "  </tbody>\n",
       "</table>\n",
       "</div>"
      ],
      "text/plain": [
       "  Country    Capital  Population\n",
       "1   India  New Delhi  1303171035"
      ]
     },
     "execution_count": 62,
     "metadata": {},
     "output_type": "execute_result"
    }
   ],
   "source": [
    "df[1:2]"
   ]
  },
  {
   "cell_type": "code",
   "execution_count": 63,
   "id": "22097fe1",
   "metadata": {},
   "outputs": [
    {
     "data": {
      "text/html": [
       "<div>\n",
       "<style scoped>\n",
       "    .dataframe tbody tr th:only-of-type {\n",
       "        vertical-align: middle;\n",
       "    }\n",
       "\n",
       "    .dataframe tbody tr th {\n",
       "        vertical-align: top;\n",
       "    }\n",
       "\n",
       "    .dataframe thead th {\n",
       "        text-align: right;\n",
       "    }\n",
       "</style>\n",
       "<table border=\"1\" class=\"dataframe\">\n",
       "  <thead>\n",
       "    <tr style=\"text-align: right;\">\n",
       "      <th></th>\n",
       "      <th>Country</th>\n",
       "      <th>Population</th>\n",
       "    </tr>\n",
       "  </thead>\n",
       "  <tbody>\n",
       "    <tr>\n",
       "      <th>0</th>\n",
       "      <td>Belgium</td>\n",
       "      <td>11190846</td>\n",
       "    </tr>\n",
       "    <tr>\n",
       "      <th>1</th>\n",
       "      <td>India</td>\n",
       "      <td>1303171035</td>\n",
       "    </tr>\n",
       "    <tr>\n",
       "      <th>2</th>\n",
       "      <td>Brazil</td>\n",
       "      <td>207847528</td>\n",
       "    </tr>\n",
       "  </tbody>\n",
       "</table>\n",
       "</div>"
      ],
      "text/plain": [
       "   Country  Population\n",
       "0  Belgium    11190846\n",
       "1    India  1303171035\n",
       "2   Brazil   207847528"
      ]
     },
     "execution_count": 63,
     "metadata": {},
     "output_type": "execute_result"
    }
   ],
   "source": [
    "# 用行列号取\n",
    "df.iloc[:,[0,2]]"
   ]
  },
  {
   "cell_type": "code",
   "execution_count": 64,
   "id": "cb4d78dd",
   "metadata": {},
   "outputs": [
    {
     "data": {
      "text/html": [
       "<div>\n",
       "<style scoped>\n",
       "    .dataframe tbody tr th:only-of-type {\n",
       "        vertical-align: middle;\n",
       "    }\n",
       "\n",
       "    .dataframe tbody tr th {\n",
       "        vertical-align: top;\n",
       "    }\n",
       "\n",
       "    .dataframe thead th {\n",
       "        text-align: right;\n",
       "    }\n",
       "</style>\n",
       "<table border=\"1\" class=\"dataframe\">\n",
       "  <thead>\n",
       "    <tr style=\"text-align: right;\">\n",
       "      <th></th>\n",
       "      <th>Country</th>\n",
       "      <th>Population</th>\n",
       "    </tr>\n",
       "  </thead>\n",
       "  <tbody>\n",
       "    <tr>\n",
       "      <th>0</th>\n",
       "      <td>Belgium</td>\n",
       "      <td>11190846</td>\n",
       "    </tr>\n",
       "    <tr>\n",
       "      <th>1</th>\n",
       "      <td>India</td>\n",
       "      <td>1303171035</td>\n",
       "    </tr>\n",
       "    <tr>\n",
       "      <th>2</th>\n",
       "      <td>Brazil</td>\n",
       "      <td>207847528</td>\n",
       "    </tr>\n",
       "  </tbody>\n",
       "</table>\n",
       "</div>"
      ],
      "text/plain": [
       "   Country  Population\n",
       "0  Belgium    11190846\n",
       "1    India  1303171035\n",
       "2   Brazil   207847528"
      ]
     },
     "execution_count": 64,
     "metadata": {},
     "output_type": "execute_result"
    }
   ],
   "source": [
    "# 用列名取\n",
    "df.loc[:,['Country','Population']]"
   ]
  },
  {
   "cell_type": "code",
   "execution_count": 65,
   "id": "27e9858e",
   "metadata": {
    "scrolled": true
   },
   "outputs": [
    {
     "data": {
      "text/html": [
       "<div>\n",
       "<style scoped>\n",
       "    .dataframe tbody tr th:only-of-type {\n",
       "        vertical-align: middle;\n",
       "    }\n",
       "\n",
       "    .dataframe tbody tr th {\n",
       "        vertical-align: top;\n",
       "    }\n",
       "\n",
       "    .dataframe thead th {\n",
       "        text-align: right;\n",
       "    }\n",
       "</style>\n",
       "<table border=\"1\" class=\"dataframe\">\n",
       "  <thead>\n",
       "    <tr style=\"text-align: right;\">\n",
       "      <th></th>\n",
       "      <th>Country</th>\n",
       "      <th>Population</th>\n",
       "    </tr>\n",
       "  </thead>\n",
       "  <tbody>\n",
       "    <tr>\n",
       "      <th>0</th>\n",
       "      <td>Belgium</td>\n",
       "      <td>11190846</td>\n",
       "    </tr>\n",
       "    <tr>\n",
       "      <th>1</th>\n",
       "      <td>India</td>\n",
       "      <td>1303171035</td>\n",
       "    </tr>\n",
       "    <tr>\n",
       "      <th>2</th>\n",
       "      <td>Brazil</td>\n",
       "      <td>207847528</td>\n",
       "    </tr>\n",
       "  </tbody>\n",
       "</table>\n",
       "</div>"
      ],
      "text/plain": [
       "   Country  Population\n",
       "0  Belgium    11190846\n",
       "1    India  1303171035\n",
       "2   Brazil   207847528"
      ]
     },
     "execution_count": 65,
     "metadata": {},
     "output_type": "execute_result"
    }
   ],
   "source": [
    "df.drop('Capital',axis=1) # 必须指明是列名，不会改变原数据"
   ]
  },
  {
   "cell_type": "markdown",
   "id": "cf5a8dd3",
   "metadata": {},
   "source": [
    "### 5.3 总体情况"
   ]
  },
  {
   "cell_type": "code",
   "execution_count": 66,
   "id": "6d3883e7",
   "metadata": {},
   "outputs": [
    {
     "data": {
      "text/plain": [
       "(3, 3)"
      ]
     },
     "execution_count": 66,
     "metadata": {},
     "output_type": "execute_result"
    }
   ],
   "source": [
    "df.shape # 查看对象的一个‘属性’，所以不用括号"
   ]
  },
  {
   "cell_type": "code",
   "execution_count": 67,
   "id": "4f54c930",
   "metadata": {},
   "outputs": [
    {
     "data": {
      "text/plain": [
       "Index(['Country', 'Capital', 'Population'], dtype='object')"
      ]
     },
     "execution_count": 67,
     "metadata": {},
     "output_type": "execute_result"
    }
   ],
   "source": [
    "df.columns"
   ]
  },
  {
   "cell_type": "code",
   "execution_count": 68,
   "id": "d8598679",
   "metadata": {},
   "outputs": [
    {
     "data": {
      "text/plain": [
       "0    3\n",
       "1    3\n",
       "2    3\n",
       "dtype: int64"
      ]
     },
     "execution_count": 68,
     "metadata": {},
     "output_type": "execute_result"
    }
   ],
   "source": [
    "df.count(axis=1) # 对对象进行了操作，所以有括号"
   ]
  },
  {
   "cell_type": "code",
   "execution_count": 69,
   "id": "328d8613",
   "metadata": {},
   "outputs": [
    {
     "data": {
      "text/html": [
       "<div>\n",
       "<style scoped>\n",
       "    .dataframe tbody tr th:only-of-type {\n",
       "        vertical-align: middle;\n",
       "    }\n",
       "\n",
       "    .dataframe tbody tr th {\n",
       "        vertical-align: top;\n",
       "    }\n",
       "\n",
       "    .dataframe thead th {\n",
       "        text-align: right;\n",
       "    }\n",
       "</style>\n",
       "<table border=\"1\" class=\"dataframe\">\n",
       "  <thead>\n",
       "    <tr style=\"text-align: right;\">\n",
       "      <th></th>\n",
       "      <th>Population</th>\n",
       "    </tr>\n",
       "  </thead>\n",
       "  <tbody>\n",
       "    <tr>\n",
       "      <th>count</th>\n",
       "      <td>3.000000e+00</td>\n",
       "    </tr>\n",
       "    <tr>\n",
       "      <th>mean</th>\n",
       "      <td>5.074031e+08</td>\n",
       "    </tr>\n",
       "    <tr>\n",
       "      <th>std</th>\n",
       "      <td>6.961346e+08</td>\n",
       "    </tr>\n",
       "    <tr>\n",
       "      <th>min</th>\n",
       "      <td>1.119085e+07</td>\n",
       "    </tr>\n",
       "    <tr>\n",
       "      <th>25%</th>\n",
       "      <td>1.095192e+08</td>\n",
       "    </tr>\n",
       "    <tr>\n",
       "      <th>50%</th>\n",
       "      <td>2.078475e+08</td>\n",
       "    </tr>\n",
       "    <tr>\n",
       "      <th>75%</th>\n",
       "      <td>7.555093e+08</td>\n",
       "    </tr>\n",
       "    <tr>\n",
       "      <th>max</th>\n",
       "      <td>1.303171e+09</td>\n",
       "    </tr>\n",
       "  </tbody>\n",
       "</table>\n",
       "</div>"
      ],
      "text/plain": [
       "         Population\n",
       "count  3.000000e+00\n",
       "mean   5.074031e+08\n",
       "std    6.961346e+08\n",
       "min    1.119085e+07\n",
       "25%    1.095192e+08\n",
       "50%    2.078475e+08\n",
       "75%    7.555093e+08\n",
       "max    1.303171e+09"
      ]
     },
     "execution_count": 69,
     "metadata": {},
     "output_type": "execute_result"
    }
   ],
   "source": [
    "df.describe()"
   ]
  },
  {
   "cell_type": "markdown",
   "id": "7ff70c6b",
   "metadata": {},
   "source": [
    "### 5.4 匿名函数"
   ]
  },
  {
   "cell_type": "code",
   "execution_count": 70,
   "id": "8b541afe",
   "metadata": {},
   "outputs": [],
   "source": [
    "f_lambda = lambda x: x*2"
   ]
  },
  {
   "cell_type": "code",
   "execution_count": 71,
   "id": "58b841cd",
   "metadata": {},
   "outputs": [
    {
     "data": {
      "text/html": [
       "<div>\n",
       "<style scoped>\n",
       "    .dataframe tbody tr th:only-of-type {\n",
       "        vertical-align: middle;\n",
       "    }\n",
       "\n",
       "    .dataframe tbody tr th {\n",
       "        vertical-align: top;\n",
       "    }\n",
       "\n",
       "    .dataframe thead th {\n",
       "        text-align: right;\n",
       "    }\n",
       "</style>\n",
       "<table border=\"1\" class=\"dataframe\">\n",
       "  <thead>\n",
       "    <tr style=\"text-align: right;\">\n",
       "      <th></th>\n",
       "      <th>Country</th>\n",
       "      <th>Capital</th>\n",
       "      <th>Population</th>\n",
       "    </tr>\n",
       "  </thead>\n",
       "  <tbody>\n",
       "    <tr>\n",
       "      <th>0</th>\n",
       "      <td>BelgiumBelgium</td>\n",
       "      <td>BrusselsBrussels</td>\n",
       "      <td>22381692</td>\n",
       "    </tr>\n",
       "    <tr>\n",
       "      <th>1</th>\n",
       "      <td>IndiaIndia</td>\n",
       "      <td>New DelhiNew Delhi</td>\n",
       "      <td>2606342070</td>\n",
       "    </tr>\n",
       "    <tr>\n",
       "      <th>2</th>\n",
       "      <td>BrazilBrazil</td>\n",
       "      <td>BrasiliaBrasilia</td>\n",
       "      <td>415695056</td>\n",
       "    </tr>\n",
       "  </tbody>\n",
       "</table>\n",
       "</div>"
      ],
      "text/plain": [
       "          Country             Capital  Population\n",
       "0  BelgiumBelgium    BrusselsBrussels    22381692\n",
       "1      IndiaIndia  New DelhiNew Delhi  2606342070\n",
       "2    BrazilBrazil    BrasiliaBrasilia   415695056"
      ]
     },
     "execution_count": 71,
     "metadata": {},
     "output_type": "execute_result"
    }
   ],
   "source": [
    "df.apply(f_lambda) # 不改变原数据"
   ]
  },
  {
   "cell_type": "code",
   "execution_count": 72,
   "id": "15373df6",
   "metadata": {
    "scrolled": true
   },
   "outputs": [
    {
     "data": {
      "text/html": [
       "<div>\n",
       "<style scoped>\n",
       "    .dataframe tbody tr th:only-of-type {\n",
       "        vertical-align: middle;\n",
       "    }\n",
       "\n",
       "    .dataframe tbody tr th {\n",
       "        vertical-align: top;\n",
       "    }\n",
       "\n",
       "    .dataframe thead th {\n",
       "        text-align: right;\n",
       "    }\n",
       "</style>\n",
       "<table border=\"1\" class=\"dataframe\">\n",
       "  <thead>\n",
       "    <tr style=\"text-align: right;\">\n",
       "      <th></th>\n",
       "      <th>Country</th>\n",
       "      <th>Capital</th>\n",
       "      <th>Population</th>\n",
       "    </tr>\n",
       "  </thead>\n",
       "  <tbody>\n",
       "    <tr>\n",
       "      <th>0</th>\n",
       "      <td>Belgium</td>\n",
       "      <td>Brussels</td>\n",
       "      <td>11190846</td>\n",
       "    </tr>\n",
       "    <tr>\n",
       "      <th>1</th>\n",
       "      <td>India</td>\n",
       "      <td>New Delhi</td>\n",
       "      <td>1303171035</td>\n",
       "    </tr>\n",
       "    <tr>\n",
       "      <th>2</th>\n",
       "      <td>Brazil</td>\n",
       "      <td>Brasilia</td>\n",
       "      <td>207847528</td>\n",
       "    </tr>\n",
       "  </tbody>\n",
       "</table>\n",
       "</div>"
      ],
      "text/plain": [
       "   Country    Capital  Population\n",
       "0  Belgium   Brussels    11190846\n",
       "1    India  New Delhi  1303171035\n",
       "2   Brazil   Brasilia   207847528"
      ]
     },
     "execution_count": 72,
     "metadata": {},
     "output_type": "execute_result"
    }
   ],
   "source": [
    "df"
   ]
  },
  {
   "cell_type": "markdown",
   "id": "a3c44bb4",
   "metadata": {},
   "source": [
    "## 6. 数据读取"
   ]
  },
  {
   "cell_type": "markdown",
   "id": "5ea14f9e",
   "metadata": {},
   "source": [
    "### 6.1 stata数据"
   ]
  },
  {
   "cell_type": "code",
   "execution_count": 74,
   "id": "ff8e28d8",
   "metadata": {},
   "outputs": [],
   "source": [
    "heights = pd.read_stata(\n",
    "    \"/Users/riliu/Documents/Programming/JupyterProjects/data/heights.dta\")"
   ]
  },
  {
   "cell_type": "code",
   "execution_count": 75,
   "id": "9c1438c8",
   "metadata": {
    "scrolled": true
   },
   "outputs": [
    {
     "data": {
      "text/html": [
       "<div>\n",
       "<style scoped>\n",
       "    .dataframe tbody tr th:only-of-type {\n",
       "        vertical-align: middle;\n",
       "    }\n",
       "\n",
       "    .dataframe tbody tr th {\n",
       "        vertical-align: top;\n",
       "    }\n",
       "\n",
       "    .dataframe thead th {\n",
       "        text-align: right;\n",
       "    }\n",
       "</style>\n",
       "<table border=\"1\" class=\"dataframe\">\n",
       "  <thead>\n",
       "    <tr style=\"text-align: right;\">\n",
       "      <th></th>\n",
       "      <th>sex</th>\n",
       "      <th>age</th>\n",
       "      <th>height</th>\n",
       "      <th>weight</th>\n",
       "      <th>spouses_height</th>\n",
       "    </tr>\n",
       "  </thead>\n",
       "  <tbody>\n",
       "    <tr>\n",
       "      <th>0</th>\n",
       "      <td>MALE</td>\n",
       "      <td>11.0</td>\n",
       "      <td>164.8</td>\n",
       "      <td>75.0</td>\n",
       "      <td>164.00</td>\n",
       "    </tr>\n",
       "    <tr>\n",
       "      <th>1</th>\n",
       "      <td>FEMALE</td>\n",
       "      <td>17.0</td>\n",
       "      <td>164.0</td>\n",
       "      <td>56.0</td>\n",
       "      <td>164.00</td>\n",
       "    </tr>\n",
       "    <tr>\n",
       "      <th>2</th>\n",
       "      <td>FEMALE</td>\n",
       "      <td>25.0</td>\n",
       "      <td>163.0</td>\n",
       "      <td>54.5</td>\n",
       "      <td>-2.00</td>\n",
       "    </tr>\n",
       "    <tr>\n",
       "      <th>3</th>\n",
       "      <td>MALE</td>\n",
       "      <td>30.0</td>\n",
       "      <td>169.5</td>\n",
       "      <td>69.0</td>\n",
       "      <td>-2.00</td>\n",
       "    </tr>\n",
       "    <tr>\n",
       "      <th>4</th>\n",
       "      <td>MALE</td>\n",
       "      <td>35.0</td>\n",
       "      <td>171.5</td>\n",
       "      <td>69.0</td>\n",
       "      <td>159.00</td>\n",
       "    </tr>\n",
       "    <tr>\n",
       "      <th>5</th>\n",
       "      <td>FEMALE</td>\n",
       "      <td>44.0</td>\n",
       "      <td>159.4</td>\n",
       "      <td>57.0</td>\n",
       "      <td>171.00</td>\n",
       "    </tr>\n",
       "    <tr>\n",
       "      <th>6</th>\n",
       "      <td>MALE</td>\n",
       "      <td>65.0</td>\n",
       "      <td>178.9</td>\n",
       "      <td>93.5</td>\n",
       "      <td>149.00</td>\n",
       "    </tr>\n",
       "    <tr>\n",
       "      <th>7</th>\n",
       "      <td>FEMALE</td>\n",
       "      <td>79.0</td>\n",
       "      <td>149.9</td>\n",
       "      <td>51.0</td>\n",
       "      <td>178.00</td>\n",
       "    </tr>\n",
       "    <tr>\n",
       "      <th>8</th>\n",
       "      <td>MALE</td>\n",
       "      <td>20.0</td>\n",
       "      <td>174.6</td>\n",
       "      <td>70.5</td>\n",
       "      <td>165.50</td>\n",
       "    </tr>\n",
       "    <tr>\n",
       "      <th>9</th>\n",
       "      <td>FEMALE</td>\n",
       "      <td>35.0</td>\n",
       "      <td>165.5</td>\n",
       "      <td>43.5</td>\n",
       "      <td>-2.00</td>\n",
       "    </tr>\n",
       "    <tr>\n",
       "      <th>10</th>\n",
       "      <td>FEMALE</td>\n",
       "      <td>15.0</td>\n",
       "      <td>162.4</td>\n",
       "      <td>55.0</td>\n",
       "      <td>-2.00</td>\n",
       "    </tr>\n",
       "    <tr>\n",
       "      <th>11</th>\n",
       "      <td>MALE</td>\n",
       "      <td>999.0</td>\n",
       "      <td>180.9</td>\n",
       "      <td>80.5</td>\n",
       "      <td>159.00</td>\n",
       "    </tr>\n",
       "    <tr>\n",
       "      <th>12</th>\n",
       "      <td>FEMALE</td>\n",
       "      <td>75.0</td>\n",
       "      <td>159.0</td>\n",
       "      <td>70.0</td>\n",
       "      <td>180.00</td>\n",
       "    </tr>\n",
       "    <tr>\n",
       "      <th>13</th>\n",
       "      <td>MALE</td>\n",
       "      <td>34.0</td>\n",
       "      <td>182.8</td>\n",
       "      <td>78.5</td>\n",
       "      <td>-2.00</td>\n",
       "    </tr>\n",
       "    <tr>\n",
       "      <th>14</th>\n",
       "      <td>MALE</td>\n",
       "      <td>56.0</td>\n",
       "      <td>196.9</td>\n",
       "      <td>117.0</td>\n",
       "      <td>-2.00</td>\n",
       "    </tr>\n",
       "    <tr>\n",
       "      <th>15</th>\n",
       "      <td>MALE</td>\n",
       "      <td>76.0</td>\n",
       "      <td>186.5</td>\n",
       "      <td>67.5</td>\n",
       "      <td>-2.00</td>\n",
       "    </tr>\n",
       "    <tr>\n",
       "      <th>16</th>\n",
       "      <td>MALE</td>\n",
       "      <td>32.0</td>\n",
       "      <td>163.0</td>\n",
       "      <td>58.5</td>\n",
       "      <td>-2.00</td>\n",
       "    </tr>\n",
       "    <tr>\n",
       "      <th>17</th>\n",
       "      <td>MALE</td>\n",
       "      <td>11.0</td>\n",
       "      <td>177.5</td>\n",
       "      <td>81.0</td>\n",
       "      <td>156.00</td>\n",
       "    </tr>\n",
       "    <tr>\n",
       "      <th>18</th>\n",
       "      <td>FEMALE</td>\n",
       "      <td>22.0</td>\n",
       "      <td>156.4</td>\n",
       "      <td>57.0</td>\n",
       "      <td>177.00</td>\n",
       "    </tr>\n",
       "    <tr>\n",
       "      <th>19</th>\n",
       "      <td>MALE</td>\n",
       "      <td>33.0</td>\n",
       "      <td>166.9</td>\n",
       "      <td>69.0</td>\n",
       "      <td>149.00</td>\n",
       "    </tr>\n",
       "    <tr>\n",
       "      <th>20</th>\n",
       "      <td>FEMALE</td>\n",
       "      <td>44.0</td>\n",
       "      <td>149.9</td>\n",
       "      <td>58.5</td>\n",
       "      <td>166.00</td>\n",
       "    </tr>\n",
       "    <tr>\n",
       "      <th>21</th>\n",
       "      <td>MALE</td>\n",
       "      <td>55.0</td>\n",
       "      <td>172.5</td>\n",
       "      <td>90.5</td>\n",
       "      <td>163.00</td>\n",
       "    </tr>\n",
       "    <tr>\n",
       "      <th>22</th>\n",
       "      <td>FEMALE</td>\n",
       "      <td>999.0</td>\n",
       "      <td>163.9</td>\n",
       "      <td>60.5</td>\n",
       "      <td>172.00</td>\n",
       "    </tr>\n",
       "    <tr>\n",
       "      <th>23</th>\n",
       "      <td>MALE</td>\n",
       "      <td>53.0</td>\n",
       "      <td>178.0</td>\n",
       "      <td>81.0</td>\n",
       "      <td>-2.00</td>\n",
       "    </tr>\n",
       "    <tr>\n",
       "      <th>24</th>\n",
       "      <td>FEMALE</td>\n",
       "      <td>63.0</td>\n",
       "      <td>163.1</td>\n",
       "      <td>58.0</td>\n",
       "      <td>-2.00</td>\n",
       "    </tr>\n",
       "    <tr>\n",
       "      <th>25</th>\n",
       "      <td>MALE</td>\n",
       "      <td>73.0</td>\n",
       "      <td>176.6</td>\n",
       "      <td>84.5</td>\n",
       "      <td>156.69</td>\n",
       "    </tr>\n",
       "    <tr>\n",
       "      <th>26</th>\n",
       "      <td>FEMALE</td>\n",
       "      <td>74.0</td>\n",
       "      <td>156.6</td>\n",
       "      <td>70.0</td>\n",
       "      <td>-2.00</td>\n",
       "    </tr>\n",
       "    <tr>\n",
       "      <th>27</th>\n",
       "      <td>FEMALE</td>\n",
       "      <td>88.0</td>\n",
       "      <td>162.9</td>\n",
       "      <td>52.0</td>\n",
       "      <td>-2.00</td>\n",
       "    </tr>\n",
       "    <tr>\n",
       "      <th>28</th>\n",
       "      <td>MALE</td>\n",
       "      <td>13.0</td>\n",
       "      <td>171.9</td>\n",
       "      <td>77.0</td>\n",
       "      <td>160.19</td>\n",
       "    </tr>\n",
       "    <tr>\n",
       "      <th>29</th>\n",
       "      <td>FEMALE</td>\n",
       "      <td>46.0</td>\n",
       "      <td>160.1</td>\n",
       "      <td>49.5</td>\n",
       "      <td>-2.00</td>\n",
       "    </tr>\n",
       "    <tr>\n",
       "      <th>30</th>\n",
       "      <td>MALE</td>\n",
       "      <td>40.0</td>\n",
       "      <td>171.6</td>\n",
       "      <td>70.0</td>\n",
       "      <td>164.50</td>\n",
       "    </tr>\n",
       "    <tr>\n",
       "      <th>31</th>\n",
       "      <td>FEMALE</td>\n",
       "      <td>999.0</td>\n",
       "      <td>164.5</td>\n",
       "      <td>76.5</td>\n",
       "      <td>-2.00</td>\n",
       "    </tr>\n",
       "    <tr>\n",
       "      <th>32</th>\n",
       "      <td>FEMALE</td>\n",
       "      <td>47.0</td>\n",
       "      <td>162.1</td>\n",
       "      <td>52.0</td>\n",
       "      <td>-2.00</td>\n",
       "    </tr>\n",
       "    <tr>\n",
       "      <th>33</th>\n",
       "      <td>FEMALE</td>\n",
       "      <td>22.0</td>\n",
       "      <td>149.0</td>\n",
       "      <td>71.5</td>\n",
       "      <td>-2.00</td>\n",
       "    </tr>\n",
       "    <tr>\n",
       "      <th>34</th>\n",
       "      <td>FEMALE</td>\n",
       "      <td>25.0</td>\n",
       "      <td>147.6</td>\n",
       "      <td>50.0</td>\n",
       "      <td>-2.00</td>\n",
       "    </tr>\n",
       "    <tr>\n",
       "      <th>35</th>\n",
       "      <td>MALE</td>\n",
       "      <td>28.0</td>\n",
       "      <td>176.5</td>\n",
       "      <td>60.0</td>\n",
       "      <td>-2.00</td>\n",
       "    </tr>\n",
       "    <tr>\n",
       "      <th>36</th>\n",
       "      <td>MALE</td>\n",
       "      <td>32.0</td>\n",
       "      <td>171.1</td>\n",
       "      <td>73.5</td>\n",
       "      <td>169.20</td>\n",
       "    </tr>\n",
       "    <tr>\n",
       "      <th>37</th>\n",
       "      <td>FEMALE</td>\n",
       "      <td>58.0</td>\n",
       "      <td>169.1</td>\n",
       "      <td>63.5</td>\n",
       "      <td>-2.00</td>\n",
       "    </tr>\n",
       "    <tr>\n",
       "      <th>38</th>\n",
       "      <td>-2.0</td>\n",
       "      <td>999.0</td>\n",
       "      <td>-1.0</td>\n",
       "      <td>0.0</td>\n",
       "      <td>-2.00</td>\n",
       "    </tr>\n",
       "    <tr>\n",
       "      <th>39</th>\n",
       "      <td>MALE</td>\n",
       "      <td>32.0</td>\n",
       "      <td>176.5</td>\n",
       "      <td>83.0</td>\n",
       "      <td>-2.00</td>\n",
       "    </tr>\n",
       "    <tr>\n",
       "      <th>40</th>\n",
       "      <td>MALE</td>\n",
       "      <td>32.0</td>\n",
       "      <td>163.4</td>\n",
       "      <td>65.5</td>\n",
       "      <td>155.00</td>\n",
       "    </tr>\n",
       "    <tr>\n",
       "      <th>41</th>\n",
       "      <td>FEMALE</td>\n",
       "      <td>53.0</td>\n",
       "      <td>155.0</td>\n",
       "      <td>43.0</td>\n",
       "      <td>163.00</td>\n",
       "    </tr>\n",
       "    <tr>\n",
       "      <th>42</th>\n",
       "      <td>MALE</td>\n",
       "      <td>68.0</td>\n",
       "      <td>184.1</td>\n",
       "      <td>80.5</td>\n",
       "      <td>156.00</td>\n",
       "    </tr>\n",
       "    <tr>\n",
       "      <th>43</th>\n",
       "      <td>FEMALE</td>\n",
       "      <td>34.0</td>\n",
       "      <td>156.6</td>\n",
       "      <td>56.5</td>\n",
       "      <td>184.00</td>\n",
       "    </tr>\n",
       "    <tr>\n",
       "      <th>44</th>\n",
       "      <td>MALE</td>\n",
       "      <td>11.0</td>\n",
       "      <td>171.5</td>\n",
       "      <td>57.0</td>\n",
       "      <td>149.00</td>\n",
       "    </tr>\n",
       "    <tr>\n",
       "      <th>45</th>\n",
       "      <td>FEMALE</td>\n",
       "      <td>32.0</td>\n",
       "      <td>149.8</td>\n",
       "      <td>50.0</td>\n",
       "      <td>171.00</td>\n",
       "    </tr>\n",
       "    <tr>\n",
       "      <th>46</th>\n",
       "      <td>MALE</td>\n",
       "      <td>18.0</td>\n",
       "      <td>179.3</td>\n",
       "      <td>73.0</td>\n",
       "      <td>-2.00</td>\n",
       "    </tr>\n",
       "    <tr>\n",
       "      <th>47</th>\n",
       "      <td>-2.0</td>\n",
       "      <td>38.0</td>\n",
       "      <td>170.0</td>\n",
       "      <td>0.0</td>\n",
       "      <td>162.00</td>\n",
       "    </tr>\n",
       "    <tr>\n",
       "      <th>48</th>\n",
       "      <td>FEMALE</td>\n",
       "      <td>42.0</td>\n",
       "      <td>162.0</td>\n",
       "      <td>83.5</td>\n",
       "      <td>170.00</td>\n",
       "    </tr>\n",
       "    <tr>\n",
       "      <th>49</th>\n",
       "      <td>MALE</td>\n",
       "      <td>88.0</td>\n",
       "      <td>175.5</td>\n",
       "      <td>80.0</td>\n",
       "      <td>168.00</td>\n",
       "    </tr>\n",
       "  </tbody>\n",
       "</table>\n",
       "</div>"
      ],
      "text/plain": [
       "       sex    age  height  weight  spouses_height\n",
       "0     MALE   11.0   164.8    75.0          164.00\n",
       "1   FEMALE   17.0   164.0    56.0          164.00\n",
       "2   FEMALE   25.0   163.0    54.5           -2.00\n",
       "3     MALE   30.0   169.5    69.0           -2.00\n",
       "4     MALE   35.0   171.5    69.0          159.00\n",
       "5   FEMALE   44.0   159.4    57.0          171.00\n",
       "6     MALE   65.0   178.9    93.5          149.00\n",
       "7   FEMALE   79.0   149.9    51.0          178.00\n",
       "8     MALE   20.0   174.6    70.5          165.50\n",
       "9   FEMALE   35.0   165.5    43.5           -2.00\n",
       "10  FEMALE   15.0   162.4    55.0           -2.00\n",
       "11    MALE  999.0   180.9    80.5          159.00\n",
       "12  FEMALE   75.0   159.0    70.0          180.00\n",
       "13    MALE   34.0   182.8    78.5           -2.00\n",
       "14    MALE   56.0   196.9   117.0           -2.00\n",
       "15    MALE   76.0   186.5    67.5           -2.00\n",
       "16    MALE   32.0   163.0    58.5           -2.00\n",
       "17    MALE   11.0   177.5    81.0          156.00\n",
       "18  FEMALE   22.0   156.4    57.0          177.00\n",
       "19    MALE   33.0   166.9    69.0          149.00\n",
       "20  FEMALE   44.0   149.9    58.5          166.00\n",
       "21    MALE   55.0   172.5    90.5          163.00\n",
       "22  FEMALE  999.0   163.9    60.5          172.00\n",
       "23    MALE   53.0   178.0    81.0           -2.00\n",
       "24  FEMALE   63.0   163.1    58.0           -2.00\n",
       "25    MALE   73.0   176.6    84.5          156.69\n",
       "26  FEMALE   74.0   156.6    70.0           -2.00\n",
       "27  FEMALE   88.0   162.9    52.0           -2.00\n",
       "28    MALE   13.0   171.9    77.0          160.19\n",
       "29  FEMALE   46.0   160.1    49.5           -2.00\n",
       "30    MALE   40.0   171.6    70.0          164.50\n",
       "31  FEMALE  999.0   164.5    76.5           -2.00\n",
       "32  FEMALE   47.0   162.1    52.0           -2.00\n",
       "33  FEMALE   22.0   149.0    71.5           -2.00\n",
       "34  FEMALE   25.0   147.6    50.0           -2.00\n",
       "35    MALE   28.0   176.5    60.0           -2.00\n",
       "36    MALE   32.0   171.1    73.5          169.20\n",
       "37  FEMALE   58.0   169.1    63.5           -2.00\n",
       "38    -2.0  999.0    -1.0     0.0           -2.00\n",
       "39    MALE   32.0   176.5    83.0           -2.00\n",
       "40    MALE   32.0   163.4    65.5          155.00\n",
       "41  FEMALE   53.0   155.0    43.0          163.00\n",
       "42    MALE   68.0   184.1    80.5          156.00\n",
       "43  FEMALE   34.0   156.6    56.5          184.00\n",
       "44    MALE   11.0   171.5    57.0          149.00\n",
       "45  FEMALE   32.0   149.8    50.0          171.00\n",
       "46    MALE   18.0   179.3    73.0           -2.00\n",
       "47    -2.0   38.0   170.0     0.0          162.00\n",
       "48  FEMALE   42.0   162.0    83.5          170.00\n",
       "49    MALE   88.0   175.5    80.0          168.00"
      ]
     },
     "execution_count": 75,
     "metadata": {},
     "output_type": "execute_result"
    }
   ],
   "source": [
    "heights"
   ]
  },
  {
   "cell_type": "markdown",
   "id": "1dece89e",
   "metadata": {},
   "source": [
    "### 6.2 csv数据"
   ]
  },
  {
   "cell_type": "code",
   "execution_count": 77,
   "id": "a384f3cd",
   "metadata": {},
   "outputs": [],
   "source": [
    "heights_valid = pd.read_csv(\n",
    "    \"/Users/riliu/Documents/Programming/JupyterProjects/data/heights_valid.csv\")"
   ]
  },
  {
   "cell_type": "code",
   "execution_count": null,
   "id": "d3125ea2",
   "metadata": {
    "scrolled": true
   },
   "outputs": [],
   "source": [
    "heights_valid"
   ]
  },
  {
   "cell_type": "code",
   "execution_count": null,
   "id": "14965513",
   "metadata": {},
   "outputs": [],
   "source": []
  }
 ],
 "metadata": {
  "kernelspec": {
   "display_name": "Python 3",
   "language": "python",
   "name": "python3"
  },
  "language_info": {
   "codemirror_mode": {
    "name": "ipython",
    "version": 3
   },
   "file_extension": ".py",
   "mimetype": "text/x-python",
   "name": "python",
   "nbconvert_exporter": "python",
   "pygments_lexer": "ipython3",
   "version": "3.8.8"
  }
 },
 "nbformat": 4,
 "nbformat_minor": 5
}
