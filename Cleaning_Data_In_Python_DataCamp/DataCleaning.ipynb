{
 "cells": [
  {
   "cell_type": "code",
   "execution_count": 2,
   "id": "7e9de643",
   "metadata": {},
   "outputs": [],
   "source": [
    "import pandas as pd\n",
    "import numpy as np"
   ]
  },
  {
   "cell_type": "markdown",
   "id": "1b857540",
   "metadata": {},
   "source": [
    "# 1. Data type, range constraint and duplicate"
   ]
  },
  {
   "cell_type": "code",
   "execution_count": 3,
   "id": "7980b22d",
   "metadata": {},
   "outputs": [],
   "source": [
    "ride_sharing = pd.read_csv('ride_sharing.csv', index_col=0)\n",
    "# ride_sharing.head(3)"
   ]
  },
  {
   "cell_type": "code",
   "execution_count": 4,
   "id": "1e37bf0b",
   "metadata": {},
   "outputs": [
    {
     "name": "stdout",
     "output_type": "stream",
     "text": [
      "<class 'pandas.core.frame.DataFrame'>\n",
      "Int64Index: 25761 entries, 0 to 25760\n",
      "Data columns (total 10 columns):\n",
      " #   Column           Non-Null Count  Dtype \n",
      "---  ------           --------------  ----- \n",
      " 0   duration         25761 non-null  object\n",
      " 1   station_A_id     25761 non-null  int64 \n",
      " 2   station_A_name   25761 non-null  object\n",
      " 3   station_B_id     25761 non-null  int64 \n",
      " 4   station_B_name   25761 non-null  object\n",
      " 5   bike_id          25761 non-null  int64 \n",
      " 6   user_type        25761 non-null  int64 \n",
      " 7   user_birth_year  25761 non-null  int64 \n",
      " 8   user_gender      25761 non-null  object\n",
      " 9   ride_date        25761 non-null  object\n",
      "dtypes: int64(5), object(5)\n",
      "memory usage: 2.2+ MB\n"
     ]
    }
   ],
   "source": [
    "ride_sharing.info()"
   ]
  },
  {
   "cell_type": "markdown",
   "id": "dac2f50b",
   "metadata": {},
   "source": [
    "## Numeric to category"
   ]
  },
  {
   "cell_type": "code",
   "execution_count": 5,
   "id": "4730687f",
   "metadata": {},
   "outputs": [
    {
     "data": {
      "text/plain": [
       "count    25761.000000\n",
       "mean         2.008424\n",
       "std          0.704554\n",
       "min          1.000000\n",
       "25%          2.000000\n",
       "50%          2.000000\n",
       "75%          3.000000\n",
       "max          3.000000\n",
       "Name: user_type, dtype: float64"
      ]
     },
     "execution_count": 5,
     "metadata": {},
     "output_type": "execute_result"
    }
   ],
   "source": [
    "ride_sharing['user_type'].describe()"
   ]
  },
  {
   "cell_type": "code",
   "execution_count": 6,
   "id": "98e9f8b1",
   "metadata": {
    "scrolled": true
   },
   "outputs": [
    {
     "data": {
      "text/plain": [
       "dtype('int64')"
      ]
     },
     "execution_count": 6,
     "metadata": {},
     "output_type": "execute_result"
    }
   ],
   "source": [
    "ride_sharing['user_type'].dtype"
   ]
  },
  {
   "cell_type": "code",
   "execution_count": 7,
   "id": "680762dc",
   "metadata": {},
   "outputs": [],
   "source": [
    "ride_sharing['user_type_cat'] = ride_sharing['user_type'].astype('category')"
   ]
  },
  {
   "cell_type": "code",
   "execution_count": 8,
   "id": "6701bedc",
   "metadata": {},
   "outputs": [],
   "source": [
    "#assert ride_sharing.user_type_cat.dtype == 'category'"
   ]
  },
  {
   "cell_type": "code",
   "execution_count": 9,
   "id": "22c5481c",
   "metadata": {
    "scrolled": true
   },
   "outputs": [
    {
     "data": {
      "text/plain": [
       "count     25761\n",
       "unique        3\n",
       "top           2\n",
       "freq      12972\n",
       "Name: user_type_cat, dtype: int64"
      ]
     },
     "execution_count": 9,
     "metadata": {},
     "output_type": "execute_result"
    }
   ],
   "source": [
    "ride_sharing['user_type_cat'].describe()"
   ]
  },
  {
   "cell_type": "markdown",
   "id": "36388b09",
   "metadata": {},
   "source": [
    "## String striping"
   ]
  },
  {
   "cell_type": "code",
   "execution_count": 10,
   "id": "93ba3a10",
   "metadata": {},
   "outputs": [
    {
     "data": {
      "text/plain": [
       "0    12 minutes\n",
       "1    24 minutes\n",
       "2     8 minutes\n",
       "3     4 minutes\n",
       "4    11 minutes\n",
       "Name: duration, dtype: object"
      ]
     },
     "execution_count": 10,
     "metadata": {},
     "output_type": "execute_result"
    }
   ],
   "source": [
    "ride_sharing['duration'].head(5)"
   ]
  },
  {
   "cell_type": "code",
   "execution_count": 11,
   "id": "4619272f",
   "metadata": {},
   "outputs": [
    {
     "data": {
      "text/plain": [
       "0        12 \n",
       "1        24 \n",
       "2         8 \n",
       "3         4 \n",
       "4        11 \n",
       "        ... \n",
       "25756    10 \n",
       "25757    14 \n",
       "25758    14 \n",
       "25759    29 \n",
       "25760    29 \n",
       "Name: duration, Length: 25761, dtype: object"
      ]
     },
     "execution_count": 11,
     "metadata": {},
     "output_type": "execute_result"
    }
   ],
   "source": [
    "# strip() 去掉首尾的空格或指定字符串\n",
    "ride_sharing['duration'].str.strip('minutes')"
   ]
  },
  {
   "cell_type": "code",
   "execution_count": 12,
   "id": "0935f0a6",
   "metadata": {
    "scrolled": true
   },
   "outputs": [
    {
     "data": {
      "text/plain": [
       "0    12\n",
       "1    24\n",
       "2     8\n",
       "Name: duration_time, dtype: int64"
      ]
     },
     "execution_count": 12,
     "metadata": {},
     "output_type": "execute_result"
    }
   ],
   "source": [
    "ride_sharing['duration_time'] = ride_sharing['duration'].str.strip('minutes').astype('int')\n",
    "ride_sharing.duration_time.head(3)"
   ]
  },
  {
   "cell_type": "code",
   "execution_count": 13,
   "id": "640714b9",
   "metadata": {},
   "outputs": [
    {
     "data": {
      "text/plain": [
       "11.389736423275494"
      ]
     },
     "execution_count": 13,
     "metadata": {},
     "output_type": "execute_result"
    }
   ],
   "source": [
    "ride_sharing.duration_time.mean()"
   ]
  },
  {
   "cell_type": "markdown",
   "id": "31f213b3",
   "metadata": {},
   "source": [
    "## Adding constraints"
   ]
  },
  {
   "cell_type": "code",
   "execution_count": 14,
   "id": "580a77b9",
   "metadata": {},
   "outputs": [],
   "source": [
    "import datetime as dt"
   ]
  },
  {
   "cell_type": "code",
   "execution_count": 15,
   "id": "845bb0c0",
   "metadata": {
    "scrolled": false
   },
   "outputs": [
    {
     "data": {
      "text/plain": [
       "0    2020-01-19\n",
       "1    2018-10-24\n",
       "2    2017-12-25\n",
       "3    2023-01-20\n",
       "4    2019-01-29\n",
       "Name: ride_date, dtype: object"
      ]
     },
     "execution_count": 15,
     "metadata": {},
     "output_type": "execute_result"
    }
   ],
   "source": [
    "ride_sharing.ride_date.head(5)"
   ]
  },
  {
   "cell_type": "code",
   "execution_count": 16,
   "id": "c7f1f29c",
   "metadata": {},
   "outputs": [
    {
     "data": {
      "text/plain": [
       "0    2020-01-19\n",
       "1    2018-10-24\n",
       "2    2017-12-25\n",
       "Name: ride_dt, dtype: object"
      ]
     },
     "execution_count": 16,
     "metadata": {},
     "output_type": "execute_result"
    }
   ],
   "source": [
    "# string -> pandas datetime -> datetime\n",
    "ride_sharing['ride_dt'] = pd.to_datetime(ride_sharing['ride_date']).dt.date\n",
    "ride_sharing.ride_dt.head(3)"
   ]
  },
  {
   "cell_type": "code",
   "execution_count": 17,
   "id": "81343cf0",
   "metadata": {},
   "outputs": [
    {
     "data": {
      "text/plain": [
       "datetime.date(2022, 2, 12)"
      ]
     },
     "execution_count": 17,
     "metadata": {},
     "output_type": "execute_result"
    }
   ],
   "source": [
    "today = dt.date.today()\n",
    "today"
   ]
  },
  {
   "cell_type": "code",
   "execution_count": 18,
   "id": "72ec3999",
   "metadata": {},
   "outputs": [
    {
     "data": {
      "text/plain": [
       "datetime.date(2022, 2, 12)"
      ]
     },
     "execution_count": 18,
     "metadata": {},
     "output_type": "execute_result"
    }
   ],
   "source": [
    "ride_sharing.loc[ride_sharing['ride_dt'] > today, 'ride_dt'] = today\n",
    "ride_sharing.ride_dt.max()"
   ]
  },
  {
   "cell_type": "markdown",
   "id": "da987722",
   "metadata": {},
   "source": [
    "## Duplicates"
   ]
  },
  {
   "cell_type": "code",
   "execution_count": 19,
   "id": "3f451c24",
   "metadata": {},
   "outputs": [
    {
     "data": {
      "text/plain": [
       "(25761, 13)"
      ]
     },
     "execution_count": 19,
     "metadata": {},
     "output_type": "execute_result"
    }
   ],
   "source": [
    "ride_sharing.shape"
   ]
  },
  {
   "cell_type": "code",
   "execution_count": 20,
   "id": "cecc0d7d",
   "metadata": {},
   "outputs": [
    {
     "data": {
      "text/plain": [
       "(25760, 13)"
      ]
     },
     "execution_count": 20,
     "metadata": {},
     "output_type": "execute_result"
    }
   ],
   "source": [
    "# remove duplicated rows\n",
    "ride_nodup = ride_sharing.drop_duplicates()\n",
    "ride_nodup.shape"
   ]
  },
  {
   "cell_type": "code",
   "execution_count": 21,
   "id": "4a5b0243",
   "metadata": {},
   "outputs": [
    {
     "data": {
      "text/html": [
       "<div>\n",
       "<style scoped>\n",
       "    .dataframe tbody tr th:only-of-type {\n",
       "        vertical-align: middle;\n",
       "    }\n",
       "\n",
       "    .dataframe tbody tr th {\n",
       "        vertical-align: top;\n",
       "    }\n",
       "\n",
       "    .dataframe thead th {\n",
       "        text-align: right;\n",
       "    }\n",
       "</style>\n",
       "<table border=\"1\" class=\"dataframe\">\n",
       "  <thead>\n",
       "    <tr style=\"text-align: right;\">\n",
       "      <th></th>\n",
       "      <th>duration</th>\n",
       "      <th>station_A_id</th>\n",
       "      <th>station_A_name</th>\n",
       "      <th>station_B_id</th>\n",
       "      <th>station_B_name</th>\n",
       "      <th>bike_id</th>\n",
       "      <th>user_type</th>\n",
       "      <th>user_birth_year</th>\n",
       "      <th>user_gender</th>\n",
       "      <th>ride_date</th>\n",
       "      <th>user_type_cat</th>\n",
       "      <th>duration_time</th>\n",
       "      <th>ride_dt</th>\n",
       "    </tr>\n",
       "  </thead>\n",
       "  <tbody>\n",
       "    <tr>\n",
       "      <th>0</th>\n",
       "      <td>12 minutes</td>\n",
       "      <td>81</td>\n",
       "      <td>Berry St at 4th St</td>\n",
       "      <td>323</td>\n",
       "      <td>Broadway at Kearny</td>\n",
       "      <td>5480</td>\n",
       "      <td>2</td>\n",
       "      <td>1959</td>\n",
       "      <td>Male</td>\n",
       "      <td>2020-01-19</td>\n",
       "      <td>2</td>\n",
       "      <td>12</td>\n",
       "      <td>2020-01-19</td>\n",
       "    </tr>\n",
       "    <tr>\n",
       "      <th>1</th>\n",
       "      <td>24 minutes</td>\n",
       "      <td>3</td>\n",
       "      <td>Powell St BART Station (Market St at 4th St)</td>\n",
       "      <td>118</td>\n",
       "      <td>Eureka Valley Recreation Center</td>\n",
       "      <td>5193</td>\n",
       "      <td>2</td>\n",
       "      <td>1965</td>\n",
       "      <td>Male</td>\n",
       "      <td>2018-10-24</td>\n",
       "      <td>2</td>\n",
       "      <td>24</td>\n",
       "      <td>2018-10-24</td>\n",
       "    </tr>\n",
       "    <tr>\n",
       "      <th>2</th>\n",
       "      <td>8 minutes</td>\n",
       "      <td>67</td>\n",
       "      <td>San Francisco Caltrain Station 2  (Townsend St...</td>\n",
       "      <td>23</td>\n",
       "      <td>The Embarcadero at Steuart St</td>\n",
       "      <td>3652</td>\n",
       "      <td>3</td>\n",
       "      <td>1993</td>\n",
       "      <td>Male</td>\n",
       "      <td>2017-12-25</td>\n",
       "      <td>3</td>\n",
       "      <td>8</td>\n",
       "      <td>2017-12-25</td>\n",
       "    </tr>\n",
       "  </tbody>\n",
       "</table>\n",
       "</div>"
      ],
      "text/plain": [
       "     duration  station_A_id  \\\n",
       "0  12 minutes            81   \n",
       "1  24 minutes             3   \n",
       "2   8 minutes            67   \n",
       "\n",
       "                                      station_A_name  station_B_id  \\\n",
       "0                                 Berry St at 4th St           323   \n",
       "1       Powell St BART Station (Market St at 4th St)           118   \n",
       "2  San Francisco Caltrain Station 2  (Townsend St...            23   \n",
       "\n",
       "                    station_B_name  bike_id  user_type  user_birth_year  \\\n",
       "0               Broadway at Kearny     5480          2             1959   \n",
       "1  Eureka Valley Recreation Center     5193          2             1965   \n",
       "2    The Embarcadero at Steuart St     3652          3             1993   \n",
       "\n",
       "  user_gender   ride_date user_type_cat  duration_time     ride_dt  \n",
       "0        Male  2020-01-19             2             12  2020-01-19  \n",
       "1        Male  2018-10-24             2             24  2018-10-24  \n",
       "2        Male  2017-12-25             3              8  2017-12-25  "
      ]
     },
     "execution_count": 21,
     "metadata": {},
     "output_type": "execute_result"
    }
   ],
   "source": [
    "ride_nodup.head(3)"
   ]
  },
  {
   "cell_type": "markdown",
   "id": "d06a2b86",
   "metadata": {},
   "source": [
    "## Aggregation and statistics"
   ]
  },
  {
   "cell_type": "code",
   "execution_count": 22,
   "id": "f37acfb4",
   "metadata": {},
   "outputs": [],
   "source": [
    "statistics = {'user_birth_year': 'min', 'duration_time': 'mean'}"
   ]
  },
  {
   "cell_type": "code",
   "execution_count": 23,
   "id": "5fa8fdd3",
   "metadata": {},
   "outputs": [
    {
     "data": {
      "text/html": [
       "<div>\n",
       "<style scoped>\n",
       "    .dataframe tbody tr th:only-of-type {\n",
       "        vertical-align: middle;\n",
       "    }\n",
       "\n",
       "    .dataframe tbody tr th {\n",
       "        vertical-align: top;\n",
       "    }\n",
       "\n",
       "    .dataframe thead th {\n",
       "        text-align: right;\n",
       "    }\n",
       "</style>\n",
       "<table border=\"1\" class=\"dataframe\">\n",
       "  <thead>\n",
       "    <tr style=\"text-align: right;\">\n",
       "      <th></th>\n",
       "      <th>station_A_id</th>\n",
       "      <th>user_birth_year</th>\n",
       "      <th>duration_time</th>\n",
       "    </tr>\n",
       "  </thead>\n",
       "  <tbody>\n",
       "    <tr>\n",
       "      <th>0</th>\n",
       "      <td>3</td>\n",
       "      <td>1943</td>\n",
       "      <td>11.449810</td>\n",
       "    </tr>\n",
       "    <tr>\n",
       "      <th>1</th>\n",
       "      <td>5</td>\n",
       "      <td>1936</td>\n",
       "      <td>12.945935</td>\n",
       "    </tr>\n",
       "    <tr>\n",
       "      <th>2</th>\n",
       "      <td>15</td>\n",
       "      <td>1947</td>\n",
       "      <td>15.441679</td>\n",
       "    </tr>\n",
       "    <tr>\n",
       "      <th>3</th>\n",
       "      <td>16</td>\n",
       "      <td>1943</td>\n",
       "      <td>11.895052</td>\n",
       "    </tr>\n",
       "    <tr>\n",
       "      <th>4</th>\n",
       "      <td>21</td>\n",
       "      <td>1943</td>\n",
       "      <td>10.239827</td>\n",
       "    </tr>\n",
       "    <tr>\n",
       "      <th>5</th>\n",
       "      <td>22</td>\n",
       "      <td>1942</td>\n",
       "      <td>10.336197</td>\n",
       "    </tr>\n",
       "    <tr>\n",
       "      <th>6</th>\n",
       "      <td>30</td>\n",
       "      <td>1901</td>\n",
       "      <td>10.409819</td>\n",
       "    </tr>\n",
       "    <tr>\n",
       "      <th>7</th>\n",
       "      <td>67</td>\n",
       "      <td>1902</td>\n",
       "      <td>10.010179</td>\n",
       "    </tr>\n",
       "    <tr>\n",
       "      <th>8</th>\n",
       "      <td>81</td>\n",
       "      <td>1927</td>\n",
       "      <td>10.554455</td>\n",
       "    </tr>\n",
       "  </tbody>\n",
       "</table>\n",
       "</div>"
      ],
      "text/plain": [
       "   station_A_id  user_birth_year  duration_time\n",
       "0             3             1943      11.449810\n",
       "1             5             1936      12.945935\n",
       "2            15             1947      15.441679\n",
       "3            16             1943      11.895052\n",
       "4            21             1943      10.239827\n",
       "5            22             1942      10.336197\n",
       "6            30             1901      10.409819\n",
       "7            67             1902      10.010179\n",
       "8            81             1927      10.554455"
      ]
     },
     "execution_count": 23,
     "metadata": {},
     "output_type": "execute_result"
    }
   ],
   "source": [
    "ride_nodup.groupby('station_A_id').agg(statistics).reset_index()"
   ]
  },
  {
   "cell_type": "markdown",
   "id": "41e6c899",
   "metadata": {},
   "source": [
    "# 2. Text and categorical data"
   ]
  },
  {
   "cell_type": "code",
   "execution_count": 24,
   "id": "90f1e723",
   "metadata": {},
   "outputs": [
    {
     "data": {
      "text/html": [
       "<div>\n",
       "<style scoped>\n",
       "    .dataframe tbody tr th:only-of-type {\n",
       "        vertical-align: middle;\n",
       "    }\n",
       "\n",
       "    .dataframe tbody tr th {\n",
       "        vertical-align: top;\n",
       "    }\n",
       "\n",
       "    .dataframe thead th {\n",
       "        text-align: right;\n",
       "    }\n",
       "</style>\n",
       "<table border=\"1\" class=\"dataframe\">\n",
       "  <thead>\n",
       "    <tr style=\"text-align: right;\">\n",
       "      <th></th>\n",
       "      <th>id</th>\n",
       "      <th>day</th>\n",
       "      <th>airline</th>\n",
       "      <th>destination</th>\n",
       "      <th>dest_region</th>\n",
       "      <th>dest_size</th>\n",
       "      <th>boarding_area</th>\n",
       "      <th>dept_time</th>\n",
       "      <th>wait_min</th>\n",
       "      <th>cleanliness</th>\n",
       "      <th>safety</th>\n",
       "      <th>satisfaction</th>\n",
       "    </tr>\n",
       "  </thead>\n",
       "  <tbody>\n",
       "    <tr>\n",
       "      <th>0</th>\n",
       "      <td>1351</td>\n",
       "      <td>Tuesday</td>\n",
       "      <td>UNITED INTL</td>\n",
       "      <td>KANSAI</td>\n",
       "      <td>Asia</td>\n",
       "      <td>Hub</td>\n",
       "      <td>Gates 91-102</td>\n",
       "      <td>2018-12-31</td>\n",
       "      <td>115.0</td>\n",
       "      <td>Clean</td>\n",
       "      <td>Neutral</td>\n",
       "      <td>Very satisfied</td>\n",
       "    </tr>\n",
       "    <tr>\n",
       "      <th>1</th>\n",
       "      <td>373</td>\n",
       "      <td>Friday</td>\n",
       "      <td>ALASKA</td>\n",
       "      <td>SAN JOSE DEL CABO</td>\n",
       "      <td>Canada/Mexico</td>\n",
       "      <td>Small</td>\n",
       "      <td>Gates 50-59</td>\n",
       "      <td>2018-12-31</td>\n",
       "      <td>135.0</td>\n",
       "      <td>Clean</td>\n",
       "      <td>Very safe</td>\n",
       "      <td>Very satisfied</td>\n",
       "    </tr>\n",
       "    <tr>\n",
       "      <th>2</th>\n",
       "      <td>2820</td>\n",
       "      <td>Thursday</td>\n",
       "      <td>DELTA</td>\n",
       "      <td>LOS ANGELES</td>\n",
       "      <td>West US</td>\n",
       "      <td>Hub</td>\n",
       "      <td>Gates 40-48</td>\n",
       "      <td>2018-12-31</td>\n",
       "      <td>70.0</td>\n",
       "      <td>Average</td>\n",
       "      <td>Somewhat safe</td>\n",
       "      <td>Neutral</td>\n",
       "    </tr>\n",
       "  </tbody>\n",
       "</table>\n",
       "</div>"
      ],
      "text/plain": [
       "     id       day      airline        destination    dest_region dest_size  \\\n",
       "0  1351   Tuesday  UNITED INTL             KANSAI           Asia       Hub   \n",
       "1   373    Friday       ALASKA  SAN JOSE DEL CABO  Canada/Mexico     Small   \n",
       "2  2820  Thursday        DELTA        LOS ANGELES        West US       Hub   \n",
       "\n",
       "  boarding_area   dept_time  wait_min cleanliness         safety  \\\n",
       "0  Gates 91-102  2018-12-31     115.0       Clean        Neutral   \n",
       "1   Gates 50-59  2018-12-31     135.0       Clean      Very safe   \n",
       "2   Gates 40-48  2018-12-31      70.0     Average  Somewhat safe   \n",
       "\n",
       "     satisfaction  \n",
       "0  Very satisfied  \n",
       "1  Very satisfied  \n",
       "2         Neutral  "
      ]
     },
     "execution_count": 24,
     "metadata": {},
     "output_type": "execute_result"
    }
   ],
   "source": [
    "airlines = pd.read_csv('airlines_final.csv', index_col=0)\n",
    "airlines.head(3)"
   ]
  },
  {
   "cell_type": "code",
   "execution_count": 25,
   "id": "6e72c554",
   "metadata": {},
   "outputs": [],
   "source": [
    "# standard categories of each aspect\n",
    "standard_dict = {'cleanliness' : ['Clean', 'Average', 'Somewhat clean', 'Somewhat dirty', 'Dirty'],\n",
    "'safety' : ['Neutral', 'Very safe', 'Somewhat safe', 'Very unsafe', 'Somewhat unsafe'],\n",
    "'satisfaction' : ['Very satisfied', 'Neutral', 'Somewhat satisfied', \n",
    "                'Somewhat unsatisfied', 'Very unsatisfied']}"
   ]
  },
  {
   "cell_type": "code",
   "execution_count": 26,
   "id": "c564b500",
   "metadata": {},
   "outputs": [
    {
     "data": {
      "text/html": [
       "<div>\n",
       "<style scoped>\n",
       "    .dataframe tbody tr th:only-of-type {\n",
       "        vertical-align: middle;\n",
       "    }\n",
       "\n",
       "    .dataframe tbody tr th {\n",
       "        vertical-align: top;\n",
       "    }\n",
       "\n",
       "    .dataframe thead th {\n",
       "        text-align: right;\n",
       "    }\n",
       "</style>\n",
       "<table border=\"1\" class=\"dataframe\">\n",
       "  <thead>\n",
       "    <tr style=\"text-align: right;\">\n",
       "      <th></th>\n",
       "      <th>cleanliness</th>\n",
       "      <th>safety</th>\n",
       "      <th>satisfaction</th>\n",
       "    </tr>\n",
       "  </thead>\n",
       "  <tbody>\n",
       "    <tr>\n",
       "      <th>0</th>\n",
       "      <td>Clean</td>\n",
       "      <td>Neutral</td>\n",
       "      <td>Very satisfied</td>\n",
       "    </tr>\n",
       "    <tr>\n",
       "      <th>1</th>\n",
       "      <td>Average</td>\n",
       "      <td>Very safe</td>\n",
       "      <td>Neutral</td>\n",
       "    </tr>\n",
       "    <tr>\n",
       "      <th>2</th>\n",
       "      <td>Somewhat clean</td>\n",
       "      <td>Somewhat safe</td>\n",
       "      <td>Somewhat satisfied</td>\n",
       "    </tr>\n",
       "    <tr>\n",
       "      <th>3</th>\n",
       "      <td>Somewhat dirty</td>\n",
       "      <td>Very unsafe</td>\n",
       "      <td>Somewhat unsatisfied</td>\n",
       "    </tr>\n",
       "    <tr>\n",
       "      <th>4</th>\n",
       "      <td>Dirty</td>\n",
       "      <td>Somewhat unsafe</td>\n",
       "      <td>Very unsatisfied</td>\n",
       "    </tr>\n",
       "  </tbody>\n",
       "</table>\n",
       "</div>"
      ],
      "text/plain": [
       "      cleanliness           safety          satisfaction\n",
       "0           Clean          Neutral        Very satisfied\n",
       "1         Average        Very safe               Neutral\n",
       "2  Somewhat clean    Somewhat safe    Somewhat satisfied\n",
       "3  Somewhat dirty      Very unsafe  Somewhat unsatisfied\n",
       "4           Dirty  Somewhat unsafe      Very unsatisfied"
      ]
     },
     "execution_count": 26,
     "metadata": {},
     "output_type": "execute_result"
    }
   ],
   "source": [
    "categories = pd.DataFrame(standard_dict)\n",
    "categories"
   ]
  },
  {
   "cell_type": "markdown",
   "id": "ea594d09",
   "metadata": {},
   "source": [
    "## Compare with standard categories"
   ]
  },
  {
   "cell_type": "code",
   "execution_count": 27,
   "id": "89b4d883",
   "metadata": {},
   "outputs": [
    {
     "data": {
      "text/plain": [
       "array(['Very satisfied', 'Neutral', 'Somewhat satsified',\n",
       "       'Somewhat unsatisfied', 'Very unsatisfied'], dtype=object)"
      ]
     },
     "execution_count": 27,
     "metadata": {},
     "output_type": "execute_result"
    }
   ],
   "source": [
    "airlines['satisfaction'].unique()"
   ]
  },
  {
   "cell_type": "code",
   "execution_count": 28,
   "id": "c74f7468",
   "metadata": {
    "scrolled": true
   },
   "outputs": [
    {
     "data": {
      "text/plain": [
       "{'Average', 'Clean', 'Dirty', 'Somewhat clean', 'Somewhat dirty'}"
      ]
     },
     "execution_count": 28,
     "metadata": {},
     "output_type": "execute_result"
    }
   ],
   "source": [
    "set(airlines['cleanliness']).difference(categories['safety'])"
   ]
  },
  {
   "cell_type": "code",
   "execution_count": 29,
   "id": "8a87072b",
   "metadata": {},
   "outputs": [
    {
     "data": {
      "text/plain": [
       "set()"
      ]
     },
     "execution_count": 29,
     "metadata": {},
     "output_type": "execute_result"
    }
   ],
   "source": [
    "set(airlines['safety']).difference(categories['safety'])"
   ]
  },
  {
   "cell_type": "code",
   "execution_count": 30,
   "id": "0ee2b1d7",
   "metadata": {
    "scrolled": true
   },
   "outputs": [
    {
     "data": {
      "text/plain": [
       "{'Somewhat satsified'}"
      ]
     },
     "execution_count": 30,
     "metadata": {},
     "output_type": "execute_result"
    }
   ],
   "source": [
    "cat_err = set(airlines['satisfaction']).difference(categories['satisfaction'])\n",
    "cat_err"
   ]
  },
  {
   "cell_type": "code",
   "execution_count": 31,
   "id": "f472119c",
   "metadata": {},
   "outputs": [
    {
     "data": {
      "text/html": [
       "<div>\n",
       "<style scoped>\n",
       "    .dataframe tbody tr th:only-of-type {\n",
       "        vertical-align: middle;\n",
       "    }\n",
       "\n",
       "    .dataframe tbody tr th {\n",
       "        vertical-align: top;\n",
       "    }\n",
       "\n",
       "    .dataframe thead th {\n",
       "        text-align: right;\n",
       "    }\n",
       "</style>\n",
       "<table border=\"1\" class=\"dataframe\">\n",
       "  <thead>\n",
       "    <tr style=\"text-align: right;\">\n",
       "      <th></th>\n",
       "      <th>id</th>\n",
       "      <th>day</th>\n",
       "      <th>airline</th>\n",
       "      <th>destination</th>\n",
       "      <th>dest_region</th>\n",
       "      <th>dest_size</th>\n",
       "      <th>boarding_area</th>\n",
       "      <th>dept_time</th>\n",
       "      <th>wait_min</th>\n",
       "      <th>cleanliness</th>\n",
       "      <th>safety</th>\n",
       "      <th>satisfaction</th>\n",
       "    </tr>\n",
       "  </thead>\n",
       "  <tbody>\n",
       "    <tr>\n",
       "      <th>3</th>\n",
       "      <td>1157</td>\n",
       "      <td>Tuesday</td>\n",
       "      <td>SOUTHWEST</td>\n",
       "      <td>LOS ANGELES</td>\n",
       "      <td>West US</td>\n",
       "      <td>Hub</td>\n",
       "      <td>Gates 20-39</td>\n",
       "      <td>2018-12-31</td>\n",
       "      <td>190.0</td>\n",
       "      <td>Clean</td>\n",
       "      <td>Very safe</td>\n",
       "      <td>Somewhat satsified</td>\n",
       "    </tr>\n",
       "    <tr>\n",
       "      <th>4</th>\n",
       "      <td>2992</td>\n",
       "      <td>Wednesday</td>\n",
       "      <td>AMERICAN</td>\n",
       "      <td>MIAMI</td>\n",
       "      <td>East US</td>\n",
       "      <td>Hub</td>\n",
       "      <td>Gates 50-59</td>\n",
       "      <td>2018-12-31</td>\n",
       "      <td>559.0</td>\n",
       "      <td>Somewhat clean</td>\n",
       "      <td>Very safe</td>\n",
       "      <td>Somewhat satsified</td>\n",
       "    </tr>\n",
       "    <tr>\n",
       "      <th>6</th>\n",
       "      <td>2578</td>\n",
       "      <td>Saturday</td>\n",
       "      <td>JETBLUE</td>\n",
       "      <td>LONG BEACH</td>\n",
       "      <td>West US</td>\n",
       "      <td>Small</td>\n",
       "      <td>Gates 1-12</td>\n",
       "      <td>2018-12-31</td>\n",
       "      <td>63.0</td>\n",
       "      <td>Clean</td>\n",
       "      <td>Very safe</td>\n",
       "      <td>Somewhat satsified</td>\n",
       "    </tr>\n",
       "  </tbody>\n",
       "</table>\n",
       "</div>"
      ],
      "text/plain": [
       "     id        day    airline  destination dest_region dest_size  \\\n",
       "3  1157    Tuesday  SOUTHWEST  LOS ANGELES     West US       Hub   \n",
       "4  2992  Wednesday   AMERICAN        MIAMI     East US       Hub   \n",
       "6  2578   Saturday    JETBLUE   LONG BEACH     West US     Small   \n",
       "\n",
       "  boarding_area   dept_time  wait_min     cleanliness     safety  \\\n",
       "3   Gates 20-39  2018-12-31     190.0           Clean  Very safe   \n",
       "4   Gates 50-59  2018-12-31     559.0  Somewhat clean  Very safe   \n",
       "6    Gates 1-12  2018-12-31      63.0           Clean  Very safe   \n",
       "\n",
       "         satisfaction  \n",
       "3  Somewhat satsified  \n",
       "4  Somewhat satsified  \n",
       "6  Somewhat satsified  "
      ]
     },
     "execution_count": 31,
     "metadata": {},
     "output_type": "execute_result"
    }
   ],
   "source": [
    "# find the rows that have the inconsistent category of 'satisfaction'\n",
    "cat_err_rows = airlines['satisfaction'].isin(cat_err)\n",
    "airlines[cat_err_rows].head(3)"
   ]
  },
  {
   "cell_type": "code",
   "execution_count": 32,
   "id": "98607729",
   "metadata": {},
   "outputs": [],
   "source": [
    "#airlines[~cat_err_rows]"
   ]
  },
  {
   "cell_type": "markdown",
   "id": "df628a85",
   "metadata": {},
   "source": [
    "## Category inconsistent"
   ]
  },
  {
   "cell_type": "code",
   "execution_count": 33,
   "id": "7662174e",
   "metadata": {},
   "outputs": [
    {
     "data": {
      "text/plain": [
       "array(['Asia', 'Canada/Mexico', 'West US', 'East US', 'Midwest US',\n",
       "       'EAST US', 'Middle East', 'Europe', 'eur', 'Central/South America',\n",
       "       'Australia/New Zealand', 'middle east'], dtype=object)"
      ]
     },
     "execution_count": 33,
     "metadata": {},
     "output_type": "execute_result"
    }
   ],
   "source": [
    "airlines.dest_region.unique()"
   ]
  },
  {
   "cell_type": "code",
   "execution_count": 34,
   "id": "b510d589",
   "metadata": {},
   "outputs": [
    {
     "data": {
      "text/plain": [
       "array(['Hub', 'Small', '    Hub', 'Medium', 'Large', 'Hub     ',\n",
       "       '    Small', 'Medium     ', '    Medium', 'Small     ',\n",
       "       '    Large', 'Large     '], dtype=object)"
      ]
     },
     "execution_count": 34,
     "metadata": {},
     "output_type": "execute_result"
    }
   ],
   "source": [
    "airlines.dest_size.unique()"
   ]
  },
  {
   "cell_type": "code",
   "execution_count": 35,
   "id": "e0dbc99e",
   "metadata": {},
   "outputs": [
    {
     "data": {
      "text/plain": [
       "0                ASIA\n",
       "1       CANADA/MEXICO\n",
       "2             WEST US\n",
       "3             WEST US\n",
       "4             EAST US\n",
       "            ...      \n",
       "2804          EAST US\n",
       "2805          WEST US\n",
       "2806          EAST US\n",
       "2807          WEST US\n",
       "2808             ASIA\n",
       "Name: dest_region, Length: 2477, dtype: object"
      ]
     },
     "execution_count": 35,
     "metadata": {},
     "output_type": "execute_result"
    }
   ],
   "source": [
    "airlines['dest_region'].str.upper()"
   ]
  },
  {
   "cell_type": "code",
   "execution_count": 36,
   "id": "b99fc1dd",
   "metadata": {
    "scrolled": true
   },
   "outputs": [
    {
     "data": {
      "text/plain": [
       "array(['asia', 'canada/mexico', 'west us', 'east us', 'midwest us',\n",
       "       'middle east', 'europe', 'central/south america',\n",
       "       'australia/new zealand'], dtype=object)"
      ]
     },
     "execution_count": 36,
     "metadata": {},
     "output_type": "execute_result"
    }
   ],
   "source": [
    "airlines['dest_region'] = airlines['dest_region'].str.lower()\n",
    "airlines['dest_region'] = airlines['dest_region'].replace({'eur': 'europe'})\n",
    "airlines.dest_region.unique()"
   ]
  },
  {
   "cell_type": "markdown",
   "id": "6ccab108",
   "metadata": {},
   "source": [
    "## Category binning"
   ]
  },
  {
   "cell_type": "code",
   "execution_count": 37,
   "id": "e0070eb8",
   "metadata": {},
   "outputs": [],
   "source": [
    "# create ranges\n",
    "label_ranges = [0, 60, 180, np.inf]\n",
    "label_names = ['short', 'medium', 'long']"
   ]
  },
  {
   "cell_type": "code",
   "execution_count": 38,
   "id": "aeb34d55",
   "metadata": {},
   "outputs": [
    {
     "data": {
      "text/plain": [
       "0       medium\n",
       "1       medium\n",
       "2       medium\n",
       "3         long\n",
       "4         long\n",
       "         ...  \n",
       "2804      long\n",
       "2805    medium\n",
       "2806    medium\n",
       "2807    medium\n",
       "2808      long\n",
       "Name: wait_min, Length: 2477, dtype: category\n",
       "Categories (3, object): ['short' < 'medium' < 'long']"
      ]
     },
     "execution_count": 38,
     "metadata": {},
     "output_type": "execute_result"
    }
   ],
   "source": [
    "pd.cut(airlines.wait_min, bins=label_ranges, \n",
    "                               labels=label_names)"
   ]
  },
  {
   "cell_type": "code",
   "execution_count": 39,
   "id": "508db7f2",
   "metadata": {},
   "outputs": [
    {
     "data": {
      "text/html": [
       "<div>\n",
       "<style scoped>\n",
       "    .dataframe tbody tr th:only-of-type {\n",
       "        vertical-align: middle;\n",
       "    }\n",
       "\n",
       "    .dataframe tbody tr th {\n",
       "        vertical-align: top;\n",
       "    }\n",
       "\n",
       "    .dataframe thead th {\n",
       "        text-align: right;\n",
       "    }\n",
       "</style>\n",
       "<table border=\"1\" class=\"dataframe\">\n",
       "  <thead>\n",
       "    <tr style=\"text-align: right;\">\n",
       "      <th></th>\n",
       "      <th>wait_type</th>\n",
       "      <th>wait_min</th>\n",
       "    </tr>\n",
       "  </thead>\n",
       "  <tbody>\n",
       "    <tr>\n",
       "      <th>0</th>\n",
       "      <td>medium</td>\n",
       "      <td>115.0</td>\n",
       "    </tr>\n",
       "    <tr>\n",
       "      <th>1</th>\n",
       "      <td>medium</td>\n",
       "      <td>135.0</td>\n",
       "    </tr>\n",
       "    <tr>\n",
       "      <th>2</th>\n",
       "      <td>medium</td>\n",
       "      <td>70.0</td>\n",
       "    </tr>\n",
       "  </tbody>\n",
       "</table>\n",
       "</div>"
      ],
      "text/plain": [
       "  wait_type  wait_min\n",
       "0    medium     115.0\n",
       "1    medium     135.0\n",
       "2    medium      70.0"
      ]
     },
     "execution_count": 39,
     "metadata": {},
     "output_type": "execute_result"
    }
   ],
   "source": [
    "# remap to bins\n",
    "airlines['wait_type'] = pd.cut(airlines.wait_min, bins=label_ranges, \n",
    "                               labels=label_names)\n",
    "airlines[['wait_type', 'wait_min']].head(3)"
   ]
  },
  {
   "cell_type": "markdown",
   "id": "b561f231",
   "metadata": {},
   "source": [
    "## Category remapping"
   ]
  },
  {
   "cell_type": "code",
   "execution_count": 40,
   "id": "04b45644",
   "metadata": {},
   "outputs": [],
   "source": [
    "mappings = {'Monday': 'weekday', 'Tuesday': 'weekday', 'Wednesday': 'weekday', \n",
    "           'Thursday': 'weekday', 'Friday': 'weekday', 'Saturday': 'weekend', \n",
    "           'Sunday': 'weekend'}"
   ]
  },
  {
   "cell_type": "code",
   "execution_count": 41,
   "id": "8bc80669",
   "metadata": {
    "scrolled": true
   },
   "outputs": [
    {
     "data": {
      "text/html": [
       "<div>\n",
       "<style scoped>\n",
       "    .dataframe tbody tr th:only-of-type {\n",
       "        vertical-align: middle;\n",
       "    }\n",
       "\n",
       "    .dataframe tbody tr th {\n",
       "        vertical-align: top;\n",
       "    }\n",
       "\n",
       "    .dataframe thead th {\n",
       "        text-align: right;\n",
       "    }\n",
       "</style>\n",
       "<table border=\"1\" class=\"dataframe\">\n",
       "  <thead>\n",
       "    <tr style=\"text-align: right;\">\n",
       "      <th></th>\n",
       "      <th>day_week</th>\n",
       "      <th>day</th>\n",
       "    </tr>\n",
       "  </thead>\n",
       "  <tbody>\n",
       "    <tr>\n",
       "      <th>0</th>\n",
       "      <td>weekday</td>\n",
       "      <td>Tuesday</td>\n",
       "    </tr>\n",
       "    <tr>\n",
       "      <th>1</th>\n",
       "      <td>weekday</td>\n",
       "      <td>Friday</td>\n",
       "    </tr>\n",
       "    <tr>\n",
       "      <th>2</th>\n",
       "      <td>weekday</td>\n",
       "      <td>Thursday</td>\n",
       "    </tr>\n",
       "  </tbody>\n",
       "</table>\n",
       "</div>"
      ],
      "text/plain": [
       "  day_week       day\n",
       "0  weekday   Tuesday\n",
       "1  weekday    Friday\n",
       "2  weekday  Thursday"
      ]
     },
     "execution_count": 41,
     "metadata": {},
     "output_type": "execute_result"
    }
   ],
   "source": [
    "airlines['day_week'] = airlines['day'].replace(mappings)\n",
    "airlines[['day_week', 'day']].head(3)"
   ]
  },
  {
   "cell_type": "markdown",
   "id": "55c6f2a0",
   "metadata": {},
   "source": [
    "## String formatting"
   ]
  },
  {
   "cell_type": "code",
   "execution_count": 42,
   "id": "2bfe018f",
   "metadata": {},
   "outputs": [
    {
     "data": {
      "text/html": [
       "<div>\n",
       "<style scoped>\n",
       "    .dataframe tbody tr th:only-of-type {\n",
       "        vertical-align: middle;\n",
       "    }\n",
       "\n",
       "    .dataframe tbody tr th {\n",
       "        vertical-align: top;\n",
       "    }\n",
       "\n",
       "    .dataframe thead th {\n",
       "        text-align: right;\n",
       "    }\n",
       "</style>\n",
       "<table border=\"1\" class=\"dataframe\">\n",
       "  <thead>\n",
       "    <tr style=\"text-align: right;\">\n",
       "      <th></th>\n",
       "      <th>full_name</th>\n",
       "    </tr>\n",
       "  </thead>\n",
       "  <tbody>\n",
       "    <tr>\n",
       "      <th>0</th>\n",
       "      <td>Melodie Stuart</td>\n",
       "    </tr>\n",
       "    <tr>\n",
       "      <th>1</th>\n",
       "      <td>Dominic Shannon</td>\n",
       "    </tr>\n",
       "    <tr>\n",
       "      <th>2</th>\n",
       "      <td>Quintessa Tillman</td>\n",
       "    </tr>\n",
       "    <tr>\n",
       "      <th>3</th>\n",
       "      <td>Dr. Christine Nicholson</td>\n",
       "    </tr>\n",
       "    <tr>\n",
       "      <th>4</th>\n",
       "      <td>Regina Clements</td>\n",
       "    </tr>\n",
       "  </tbody>\n",
       "</table>\n",
       "</div>"
      ],
      "text/plain": [
       "                 full_name\n",
       "0           Melodie Stuart\n",
       "1          Dominic Shannon\n",
       "2        Quintessa Tillman\n",
       "3  Dr. Christine Nicholson\n",
       "4          Regina Clements"
      ]
     },
     "execution_count": 42,
     "metadata": {},
     "output_type": "execute_result"
    }
   ],
   "source": [
    "full_name = pd.read_csv('full_name.csv')\n",
    "full_name.head(5)"
   ]
  },
  {
   "cell_type": "code",
   "execution_count": 43,
   "id": "0a20fa5f",
   "metadata": {},
   "outputs": [
    {
     "data": {
      "text/plain": [
       "0               Melodie Stuart\n",
       "1              Dominic Shannon\n",
       "2            Quintessa Tillman\n",
       "3      Dr. Christine Nicholson\n",
       "4              Regina Clements\n",
       "                ...           \n",
       "195           Ms. Vanna Rivera\n",
       "196            Miss Venus Lowe\n",
       "197            Amethyst Nieves\n",
       "198        Miss Vivian Foreman\n",
       "199         Miss Wendy Griffin\n",
       "Name: full_name, Length: 200, dtype: object"
      ]
     },
     "execution_count": 43,
     "metadata": {},
     "output_type": "execute_result"
    }
   ],
   "source": [
    "full_name['full_name']"
   ]
  },
  {
   "cell_type": "code",
   "execution_count": 44,
   "id": "f63e6387",
   "metadata": {},
   "outputs": [
    {
     "name": "stderr",
     "output_type": "stream",
     "text": [
      "<ipython-input-44-ed574ac0db51>:1: FutureWarning: The default value of regex will change from True to False in a future version.\n",
      "  full_name['full_name'].str.replace('Dr.', '').str.replace('Ms.', '').str.replace('Miss', '').str.replace('Mr.', '')\n"
     ]
    },
    {
     "data": {
      "text/plain": [
       "0            Melodie Stuart\n",
       "1           Dominic Shannon\n",
       "2         Quintessa Tillman\n",
       "3       Christine Nicholson\n",
       "4           Regina Clements\n",
       "               ...         \n",
       "195            Vanna Rivera\n",
       "196              Venus Lowe\n",
       "197         Amethyst Nieves\n",
       "198          Vivian Foreman\n",
       "199           Wendy Griffin\n",
       "Name: full_name, Length: 200, dtype: object"
      ]
     },
     "execution_count": 44,
     "metadata": {},
     "output_type": "execute_result"
    }
   ],
   "source": [
    "full_name['full_name'].str.replace('Dr.', '').str.replace('Ms.', '').str.replace('Miss', '').str.replace('Mr.', '')"
   ]
  },
  {
   "cell_type": "code",
   "execution_count": 45,
   "id": "f971171a",
   "metadata": {},
   "outputs": [],
   "source": [
    "# full_name['full_name'].str.strip('Dr.')"
   ]
  },
  {
   "cell_type": "code",
   "execution_count": 46,
   "id": "fe5c44cf",
   "metadata": {},
   "outputs": [
    {
     "data": {
      "text/html": [
       "<div>\n",
       "<style scoped>\n",
       "    .dataframe tbody tr th:only-of-type {\n",
       "        vertical-align: middle;\n",
       "    }\n",
       "\n",
       "    .dataframe tbody tr th {\n",
       "        vertical-align: top;\n",
       "    }\n",
       "\n",
       "    .dataframe thead th {\n",
       "        text-align: right;\n",
       "    }\n",
       "</style>\n",
       "<table border=\"1\" class=\"dataframe\">\n",
       "  <thead>\n",
       "    <tr style=\"text-align: right;\">\n",
       "      <th></th>\n",
       "      <th>full_name</th>\n",
       "    </tr>\n",
       "  </thead>\n",
       "  <tbody>\n",
       "    <tr>\n",
       "      <th>0</th>\n",
       "      <td>Melodie Stuart</td>\n",
       "    </tr>\n",
       "    <tr>\n",
       "      <th>1</th>\n",
       "      <td>Dominic Shannon</td>\n",
       "    </tr>\n",
       "    <tr>\n",
       "      <th>2</th>\n",
       "      <td>Quintessa Tillman</td>\n",
       "    </tr>\n",
       "    <tr>\n",
       "      <th>3</th>\n",
       "      <td>Dr. Christine Nicholson</td>\n",
       "    </tr>\n",
       "    <tr>\n",
       "      <th>4</th>\n",
       "      <td>Regina Clements</td>\n",
       "    </tr>\n",
       "    <tr>\n",
       "      <th>...</th>\n",
       "      <td>...</td>\n",
       "    </tr>\n",
       "    <tr>\n",
       "      <th>195</th>\n",
       "      <td>Ms. Vanna Rivera</td>\n",
       "    </tr>\n",
       "    <tr>\n",
       "      <th>196</th>\n",
       "      <td>Miss Venus Lowe</td>\n",
       "    </tr>\n",
       "    <tr>\n",
       "      <th>197</th>\n",
       "      <td>Amethyst Nieves</td>\n",
       "    </tr>\n",
       "    <tr>\n",
       "      <th>198</th>\n",
       "      <td>Miss Vivian Foreman</td>\n",
       "    </tr>\n",
       "    <tr>\n",
       "      <th>199</th>\n",
       "      <td>Miss Wendy Griffin</td>\n",
       "    </tr>\n",
       "  </tbody>\n",
       "</table>\n",
       "<p>184 rows × 1 columns</p>\n",
       "</div>"
      ],
      "text/plain": [
       "                   full_name\n",
       "0             Melodie Stuart\n",
       "1            Dominic Shannon\n",
       "2          Quintessa Tillman\n",
       "3    Dr. Christine Nicholson\n",
       "4            Regina Clements\n",
       "..                       ...\n",
       "195         Ms. Vanna Rivera\n",
       "196          Miss Venus Lowe\n",
       "197          Amethyst Nieves\n",
       "198      Miss Vivian Foreman\n",
       "199       Miss Wendy Griffin\n",
       "\n",
       "[184 rows x 1 columns]"
      ]
     },
     "execution_count": 46,
     "metadata": {},
     "output_type": "execute_result"
    }
   ],
   "source": [
    "# find the names that are longer than 10\n",
    "name_length = full_name['full_name'].str.len()\n",
    "full_name[name_length > 10]"
   ]
  },
  {
   "cell_type": "code",
   "execution_count": null,
   "id": "9a9c75f4",
   "metadata": {},
   "outputs": [],
   "source": []
  },
  {
   "cell_type": "markdown",
   "id": "abf4b469",
   "metadata": {},
   "source": [
    "# 3. Units & Missing Value"
   ]
  },
  {
   "cell_type": "markdown",
   "id": "5dc281bc",
   "metadata": {},
   "source": [
    "## "
   ]
  },
  {
   "cell_type": "code",
   "execution_count": 47,
   "id": "f904ee58",
   "metadata": {
    "scrolled": true
   },
   "outputs": [
    {
     "data": {
      "text/html": [
       "<div>\n",
       "<style scoped>\n",
       "    .dataframe tbody tr th:only-of-type {\n",
       "        vertical-align: middle;\n",
       "    }\n",
       "\n",
       "    .dataframe tbody tr th {\n",
       "        vertical-align: top;\n",
       "    }\n",
       "\n",
       "    .dataframe thead th {\n",
       "        text-align: right;\n",
       "    }\n",
       "</style>\n",
       "<table border=\"1\" class=\"dataframe\">\n",
       "  <thead>\n",
       "    <tr style=\"text-align: right;\">\n",
       "      <th></th>\n",
       "      <th>cust_id</th>\n",
       "      <th>birth_date</th>\n",
       "      <th>Age</th>\n",
       "      <th>acct_amount</th>\n",
       "      <th>inv_amount</th>\n",
       "      <th>fund_A</th>\n",
       "      <th>fund_B</th>\n",
       "      <th>fund_C</th>\n",
       "      <th>fund_D</th>\n",
       "      <th>account_opened</th>\n",
       "      <th>last_transaction</th>\n",
       "    </tr>\n",
       "  </thead>\n",
       "  <tbody>\n",
       "    <tr>\n",
       "      <th>19</th>\n",
       "      <td>DEB87C87</td>\n",
       "      <td>7/28/93</td>\n",
       "      <td>27</td>\n",
       "      <td>64944.62</td>\n",
       "      <td>NaN</td>\n",
       "      <td>11828.0</td>\n",
       "      <td>13372.0</td>\n",
       "      <td>1039.0</td>\n",
       "      <td>5562.0</td>\n",
       "      <td>20-03-18</td>\n",
       "      <td>15-11-19</td>\n",
       "    </tr>\n",
       "    <tr>\n",
       "      <th>35</th>\n",
       "      <td>078C654F</td>\n",
       "      <td>10/17/93</td>\n",
       "      <td>27</td>\n",
       "      <td>87312.64</td>\n",
       "      <td>NaN</td>\n",
       "      <td>3684.0</td>\n",
       "      <td>17635.0</td>\n",
       "      <td>11717.0</td>\n",
       "      <td>33493.0</td>\n",
       "      <td>14-04-17</td>\n",
       "      <td>5/8/18</td>\n",
       "    </tr>\n",
       "    <tr>\n",
       "      <th>99</th>\n",
       "      <td>AC91D689</td>\n",
       "      <td>5/18/93</td>\n",
       "      <td>27</td>\n",
       "      <td>99490.61</td>\n",
       "      <td>NaN</td>\n",
       "      <td>2184.0</td>\n",
       "      <td>17918.0</td>\n",
       "      <td>6714.0</td>\n",
       "      <td>5333.0</td>\n",
       "      <td>1/8/17</td>\n",
       "      <td>4/8/19</td>\n",
       "    </tr>\n",
       "    <tr>\n",
       "      <th>22</th>\n",
       "      <td>96525DA6</td>\n",
       "      <td>11/23/92</td>\n",
       "      <td>28</td>\n",
       "      <td>82511.24</td>\n",
       "      <td>NaN</td>\n",
       "      <td>8206.0</td>\n",
       "      <td>15019.0</td>\n",
       "      <td>5559.6</td>\n",
       "      <td>6182.0</td>\n",
       "      <td>23-07-18</td>\n",
       "      <td>7/8/18</td>\n",
       "    </tr>\n",
       "    <tr>\n",
       "      <th>24</th>\n",
       "      <td>EC10469C</td>\n",
       "      <td>3/25/92</td>\n",
       "      <td>28</td>\n",
       "      <td>73618.75</td>\n",
       "      <td>NaN</td>\n",
       "      <td>2808.0</td>\n",
       "      <td>22831.0</td>\n",
       "      <td>958.0</td>\n",
       "      <td>22380.0</td>\n",
       "      <td>27-12-18</td>\n",
       "      <td>8/6/18</td>\n",
       "    </tr>\n",
       "  </tbody>\n",
       "</table>\n",
       "</div>"
      ],
      "text/plain": [
       "     cust_id birth_date  Age  acct_amount  inv_amount   fund_A   fund_B  \\\n",
       "19  DEB87C87    7/28/93   27     64944.62         NaN  11828.0  13372.0   \n",
       "35  078C654F   10/17/93   27     87312.64         NaN   3684.0  17635.0   \n",
       "99  AC91D689    5/18/93   27     99490.61         NaN   2184.0  17918.0   \n",
       "22  96525DA6   11/23/92   28     82511.24         NaN   8206.0  15019.0   \n",
       "24  EC10469C    3/25/92   28     73618.75         NaN   2808.0  22831.0   \n",
       "\n",
       "     fund_C   fund_D account_opened last_transaction  \n",
       "19   1039.0   5562.0       20-03-18         15-11-19  \n",
       "35  11717.0  33493.0       14-04-17           5/8/18  \n",
       "99   6714.0   5333.0         1/8/17           4/8/19  \n",
       "22   5559.6   6182.0       23-07-18           7/8/18  \n",
       "24    958.0  22380.0       27-12-18           8/6/18  "
      ]
     },
     "execution_count": 47,
     "metadata": {},
     "output_type": "execute_result"
    }
   ],
   "source": [
    "banking = pd.read_csv('banking_dirty.csv', index_col=0)\n",
    "banking.head(5)"
   ]
  },
  {
   "cell_type": "code",
   "execution_count": 48,
   "id": "dfcd0d3d",
   "metadata": {},
   "outputs": [
    {
     "data": {
      "text/plain": [
       "19    20-03-18\n",
       "35    14-04-17\n",
       "99      1/8/17\n",
       "22    23-07-18\n",
       "24    27-12-18\n",
       "        ...   \n",
       "37     10/8/18\n",
       "47      3/4/18\n",
       "49      8/3/18\n",
       "94    13-11-17\n",
       "32      8/8/18\n",
       "Name: account_opened, Length: 100, dtype: object"
      ]
     },
     "execution_count": 48,
     "metadata": {},
     "output_type": "execute_result"
    }
   ],
   "source": [
    "banking['account_opened']"
   ]
  },
  {
   "cell_type": "code",
   "execution_count": 49,
   "id": "a2ae423f",
   "metadata": {},
   "outputs": [],
   "source": [
    "banking['account_opened'] = pd.to_datetime(banking.account_opened, \n",
    "                                          infer_datetime_format=True, \n",
    "                                          errors='coerce')\n",
    "banking['birth_date'] = pd.to_datetime(banking.account_opened, \n",
    "                                          infer_datetime_format=True, \n",
    "                                          errors='coerce')"
   ]
  },
  {
   "cell_type": "code",
   "execution_count": 50,
   "id": "108e1a5d",
   "metadata": {
    "scrolled": true
   },
   "outputs": [
    {
     "data": {
      "text/plain": [
       "19   2018-03-20\n",
       "35   2017-04-14\n",
       "99   2017-01-08\n",
       "22   2018-07-23\n",
       "24   2018-12-27\n",
       "        ...    \n",
       "37   2018-10-08\n",
       "47   2018-03-04\n",
       "49   2018-08-03\n",
       "94   2017-11-13\n",
       "32   2018-08-08\n",
       "Name: account_opened, Length: 100, dtype: datetime64[ns]"
      ]
     },
     "execution_count": 50,
     "metadata": {},
     "output_type": "execute_result"
    }
   ],
   "source": [
    "banking.account_opened"
   ]
  },
  {
   "cell_type": "markdown",
   "id": "1c118e7e",
   "metadata": {},
   "source": [
    "- Extract 'Year'"
   ]
  },
  {
   "cell_type": "code",
   "execution_count": 51,
   "id": "5d7385d3",
   "metadata": {
    "scrolled": true
   },
   "outputs": [],
   "source": [
    "banking['acct_year'] = banking['account_opened'].dt.strftime('%Y')"
   ]
  },
  {
   "cell_type": "markdown",
   "id": "1ee7682a",
   "metadata": {},
   "source": [
    "- Sum on each row"
   ]
  },
  {
   "cell_type": "code",
   "execution_count": 52,
   "id": "c4c90a21",
   "metadata": {},
   "outputs": [],
   "source": [
    "fund_columns = ['fund_A', 'fund_B', 'fund_C', 'fund_D']"
   ]
  },
  {
   "cell_type": "code",
   "execution_count": 53,
   "id": "f6e2db8f",
   "metadata": {},
   "outputs": [],
   "source": [
    "inv_equ = banking[fund_columns].sum(axis=1) == banking.inv_amount"
   ]
  },
  {
   "cell_type": "code",
   "execution_count": 54,
   "id": "7f52ff0c",
   "metadata": {},
   "outputs": [
    {
     "data": {
      "text/html": [
       "<div>\n",
       "<style scoped>\n",
       "    .dataframe tbody tr th:only-of-type {\n",
       "        vertical-align: middle;\n",
       "    }\n",
       "\n",
       "    .dataframe tbody tr th {\n",
       "        vertical-align: top;\n",
       "    }\n",
       "\n",
       "    .dataframe thead th {\n",
       "        text-align: right;\n",
       "    }\n",
       "</style>\n",
       "<table border=\"1\" class=\"dataframe\">\n",
       "  <thead>\n",
       "    <tr style=\"text-align: right;\">\n",
       "      <th></th>\n",
       "      <th>cust_id</th>\n",
       "      <th>birth_date</th>\n",
       "      <th>Age</th>\n",
       "      <th>acct_amount</th>\n",
       "      <th>inv_amount</th>\n",
       "      <th>fund_A</th>\n",
       "      <th>fund_B</th>\n",
       "      <th>fund_C</th>\n",
       "      <th>fund_D</th>\n",
       "      <th>account_opened</th>\n",
       "      <th>last_transaction</th>\n",
       "      <th>acct_year</th>\n",
       "    </tr>\n",
       "  </thead>\n",
       "  <tbody>\n",
       "    <tr>\n",
       "      <th>19</th>\n",
       "      <td>DEB87C87</td>\n",
       "      <td>2018-03-20</td>\n",
       "      <td>27</td>\n",
       "      <td>64944.62</td>\n",
       "      <td>NaN</td>\n",
       "      <td>11828.0</td>\n",
       "      <td>13372.0</td>\n",
       "      <td>1039.0</td>\n",
       "      <td>5562.0</td>\n",
       "      <td>2018-03-20</td>\n",
       "      <td>15-11-19</td>\n",
       "      <td>2018</td>\n",
       "    </tr>\n",
       "    <tr>\n",
       "      <th>35</th>\n",
       "      <td>078C654F</td>\n",
       "      <td>2017-04-14</td>\n",
       "      <td>27</td>\n",
       "      <td>87312.64</td>\n",
       "      <td>NaN</td>\n",
       "      <td>3684.0</td>\n",
       "      <td>17635.0</td>\n",
       "      <td>11717.0</td>\n",
       "      <td>33493.0</td>\n",
       "      <td>2017-04-14</td>\n",
       "      <td>5/8/18</td>\n",
       "      <td>2017</td>\n",
       "    </tr>\n",
       "    <tr>\n",
       "      <th>99</th>\n",
       "      <td>AC91D689</td>\n",
       "      <td>2017-01-08</td>\n",
       "      <td>27</td>\n",
       "      <td>99490.61</td>\n",
       "      <td>NaN</td>\n",
       "      <td>2184.0</td>\n",
       "      <td>17918.0</td>\n",
       "      <td>6714.0</td>\n",
       "      <td>5333.0</td>\n",
       "      <td>2017-01-08</td>\n",
       "      <td>4/8/19</td>\n",
       "      <td>2017</td>\n",
       "    </tr>\n",
       "    <tr>\n",
       "      <th>22</th>\n",
       "      <td>96525DA6</td>\n",
       "      <td>2018-07-23</td>\n",
       "      <td>28</td>\n",
       "      <td>82511.24</td>\n",
       "      <td>NaN</td>\n",
       "      <td>8206.0</td>\n",
       "      <td>15019.0</td>\n",
       "      <td>5559.6</td>\n",
       "      <td>6182.0</td>\n",
       "      <td>2018-07-23</td>\n",
       "      <td>7/8/18</td>\n",
       "      <td>2018</td>\n",
       "    </tr>\n",
       "    <tr>\n",
       "      <th>24</th>\n",
       "      <td>EC10469C</td>\n",
       "      <td>2018-12-27</td>\n",
       "      <td>28</td>\n",
       "      <td>73618.75</td>\n",
       "      <td>NaN</td>\n",
       "      <td>2808.0</td>\n",
       "      <td>22831.0</td>\n",
       "      <td>958.0</td>\n",
       "      <td>22380.0</td>\n",
       "      <td>2018-12-27</td>\n",
       "      <td>8/6/18</td>\n",
       "      <td>2018</td>\n",
       "    </tr>\n",
       "  </tbody>\n",
       "</table>\n",
       "</div>"
      ],
      "text/plain": [
       "     cust_id birth_date  Age  acct_amount  inv_amount   fund_A   fund_B  \\\n",
       "19  DEB87C87 2018-03-20   27     64944.62         NaN  11828.0  13372.0   \n",
       "35  078C654F 2017-04-14   27     87312.64         NaN   3684.0  17635.0   \n",
       "99  AC91D689 2017-01-08   27     99490.61         NaN   2184.0  17918.0   \n",
       "22  96525DA6 2018-07-23   28     82511.24         NaN   8206.0  15019.0   \n",
       "24  EC10469C 2018-12-27   28     73618.75         NaN   2808.0  22831.0   \n",
       "\n",
       "     fund_C   fund_D account_opened last_transaction acct_year  \n",
       "19   1039.0   5562.0     2018-03-20         15-11-19      2018  \n",
       "35  11717.0  33493.0     2017-04-14           5/8/18      2017  \n",
       "99   6714.0   5333.0     2017-01-08           4/8/19      2017  \n",
       "22   5559.6   6182.0     2018-07-23           7/8/18      2018  \n",
       "24    958.0  22380.0     2018-12-27           8/6/18      2018  "
      ]
     },
     "execution_count": 54,
     "metadata": {},
     "output_type": "execute_result"
    }
   ],
   "source": [
    "consistent_inv = banking[inv_equ]\n",
    "inconsistent_inv = banking[~inv_equ]\n",
    "inconsistent_inv.head(5)"
   ]
  },
  {
   "cell_type": "code",
   "execution_count": 55,
   "id": "861d4fd4",
   "metadata": {},
   "outputs": [],
   "source": [
    "today = dt.date.today()\n",
    "ages_manual = today.year - banking['birth_date'].dt.year"
   ]
  },
  {
   "cell_type": "code",
   "execution_count": 56,
   "id": "dc822cad",
   "metadata": {},
   "outputs": [],
   "source": [
    "age_equ = ages_manual == banking.Age"
   ]
  },
  {
   "cell_type": "code",
   "execution_count": 57,
   "id": "d4fa0456",
   "metadata": {},
   "outputs": [
    {
     "data": {
      "text/html": [
       "<div>\n",
       "<style scoped>\n",
       "    .dataframe tbody tr th:only-of-type {\n",
       "        vertical-align: middle;\n",
       "    }\n",
       "\n",
       "    .dataframe tbody tr th {\n",
       "        vertical-align: top;\n",
       "    }\n",
       "\n",
       "    .dataframe thead th {\n",
       "        text-align: right;\n",
       "    }\n",
       "</style>\n",
       "<table border=\"1\" class=\"dataframe\">\n",
       "  <thead>\n",
       "    <tr style=\"text-align: right;\">\n",
       "      <th></th>\n",
       "      <th>cust_id</th>\n",
       "      <th>birth_date</th>\n",
       "      <th>Age</th>\n",
       "      <th>acct_amount</th>\n",
       "      <th>inv_amount</th>\n",
       "      <th>fund_A</th>\n",
       "      <th>fund_B</th>\n",
       "      <th>fund_C</th>\n",
       "      <th>fund_D</th>\n",
       "      <th>account_opened</th>\n",
       "      <th>last_transaction</th>\n",
       "      <th>acct_year</th>\n",
       "    </tr>\n",
       "  </thead>\n",
       "  <tbody>\n",
       "    <tr>\n",
       "      <th>19</th>\n",
       "      <td>DEB87C87</td>\n",
       "      <td>2018-03-20</td>\n",
       "      <td>27</td>\n",
       "      <td>64944.62</td>\n",
       "      <td>NaN</td>\n",
       "      <td>11828.0</td>\n",
       "      <td>13372.0</td>\n",
       "      <td>1039.0</td>\n",
       "      <td>5562.00</td>\n",
       "      <td>2018-03-20</td>\n",
       "      <td>15-11-19</td>\n",
       "      <td>2018</td>\n",
       "    </tr>\n",
       "    <tr>\n",
       "      <th>35</th>\n",
       "      <td>078C654F</td>\n",
       "      <td>2017-04-14</td>\n",
       "      <td>27</td>\n",
       "      <td>87312.64</td>\n",
       "      <td>NaN</td>\n",
       "      <td>3684.0</td>\n",
       "      <td>17635.0</td>\n",
       "      <td>11717.0</td>\n",
       "      <td>33493.00</td>\n",
       "      <td>2017-04-14</td>\n",
       "      <td>5/8/18</td>\n",
       "      <td>2017</td>\n",
       "    </tr>\n",
       "    <tr>\n",
       "      <th>99</th>\n",
       "      <td>AC91D689</td>\n",
       "      <td>2017-01-08</td>\n",
       "      <td>27</td>\n",
       "      <td>99490.61</td>\n",
       "      <td>NaN</td>\n",
       "      <td>2184.0</td>\n",
       "      <td>17918.0</td>\n",
       "      <td>6714.0</td>\n",
       "      <td>5333.00</td>\n",
       "      <td>2017-01-08</td>\n",
       "      <td>4/8/19</td>\n",
       "      <td>2017</td>\n",
       "    </tr>\n",
       "    <tr>\n",
       "      <th>22</th>\n",
       "      <td>96525DA6</td>\n",
       "      <td>2018-07-23</td>\n",
       "      <td>28</td>\n",
       "      <td>82511.24</td>\n",
       "      <td>NaN</td>\n",
       "      <td>8206.0</td>\n",
       "      <td>15019.0</td>\n",
       "      <td>5559.6</td>\n",
       "      <td>6182.00</td>\n",
       "      <td>2018-07-23</td>\n",
       "      <td>7/8/18</td>\n",
       "      <td>2018</td>\n",
       "    </tr>\n",
       "    <tr>\n",
       "      <th>24</th>\n",
       "      <td>EC10469C</td>\n",
       "      <td>2018-12-27</td>\n",
       "      <td>28</td>\n",
       "      <td>73618.75</td>\n",
       "      <td>NaN</td>\n",
       "      <td>2808.0</td>\n",
       "      <td>22831.0</td>\n",
       "      <td>958.0</td>\n",
       "      <td>22380.00</td>\n",
       "      <td>2018-12-27</td>\n",
       "      <td>8/6/18</td>\n",
       "      <td>2018</td>\n",
       "    </tr>\n",
       "    <tr>\n",
       "      <th>...</th>\n",
       "      <td>...</td>\n",
       "      <td>...</td>\n",
       "      <td>...</td>\n",
       "      <td>...</td>\n",
       "      <td>...</td>\n",
       "      <td>...</td>\n",
       "      <td>...</td>\n",
       "      <td>...</td>\n",
       "      <td>...</td>\n",
       "      <td>...</td>\n",
       "      <td>...</td>\n",
       "      <td>...</td>\n",
       "    </tr>\n",
       "    <tr>\n",
       "      <th>37</th>\n",
       "      <td>FA01676F</td>\n",
       "      <td>2018-10-08</td>\n",
       "      <td>58</td>\n",
       "      <td>66947.30</td>\n",
       "      <td>52549.0</td>\n",
       "      <td>12800.0</td>\n",
       "      <td>30024.0</td>\n",
       "      <td>2082.0</td>\n",
       "      <td>7643.00</td>\n",
       "      <td>2018-10-08</td>\n",
       "      <td>23-07-19</td>\n",
       "      <td>2018</td>\n",
       "    </tr>\n",
       "    <tr>\n",
       "      <th>47</th>\n",
       "      <td>68C55974</td>\n",
       "      <td>2018-03-04</td>\n",
       "      <td>58</td>\n",
       "      <td>95038.14</td>\n",
       "      <td>66796.0</td>\n",
       "      <td>33764.0</td>\n",
       "      <td>5042.0</td>\n",
       "      <td>10659.0</td>\n",
       "      <td>19237.41</td>\n",
       "      <td>2018-03-04</td>\n",
       "      <td>25-09-18</td>\n",
       "      <td>2018</td>\n",
       "    </tr>\n",
       "    <tr>\n",
       "      <th>49</th>\n",
       "      <td>0F0884F6</td>\n",
       "      <td>2018-08-03</td>\n",
       "      <td>59</td>\n",
       "      <td>84505.81</td>\n",
       "      <td>47824.0</td>\n",
       "      <td>8063.0</td>\n",
       "      <td>1165.0</td>\n",
       "      <td>38319.0</td>\n",
       "      <td>277.00</td>\n",
       "      <td>2018-08-03</td>\n",
       "      <td>24-08-19</td>\n",
       "      <td>2018</td>\n",
       "    </tr>\n",
       "    <tr>\n",
       "      <th>94</th>\n",
       "      <td>A731C34E</td>\n",
       "      <td>2017-11-13</td>\n",
       "      <td>59</td>\n",
       "      <td>95352.02</td>\n",
       "      <td>84065.0</td>\n",
       "      <td>12061.0</td>\n",
       "      <td>15742.0</td>\n",
       "      <td>35725.0</td>\n",
       "      <td>20537.00</td>\n",
       "      <td>2017-11-13</td>\n",
       "      <td>13-01-19</td>\n",
       "      <td>2017</td>\n",
       "    </tr>\n",
       "    <tr>\n",
       "      <th>32</th>\n",
       "      <td>8D08495A</td>\n",
       "      <td>2018-08-08</td>\n",
       "      <td>63</td>\n",
       "      <td>89138.52</td>\n",
       "      <td>60795.0</td>\n",
       "      <td>53880.0</td>\n",
       "      <td>1325.0</td>\n",
       "      <td>2105.0</td>\n",
       "      <td>3485.00</td>\n",
       "      <td>2018-08-08</td>\n",
       "      <td>5/2/19</td>\n",
       "      <td>2018</td>\n",
       "    </tr>\n",
       "  </tbody>\n",
       "</table>\n",
       "<p>100 rows × 12 columns</p>\n",
       "</div>"
      ],
      "text/plain": [
       "     cust_id birth_date  Age  acct_amount  inv_amount   fund_A   fund_B  \\\n",
       "19  DEB87C87 2018-03-20   27     64944.62         NaN  11828.0  13372.0   \n",
       "35  078C654F 2017-04-14   27     87312.64         NaN   3684.0  17635.0   \n",
       "99  AC91D689 2017-01-08   27     99490.61         NaN   2184.0  17918.0   \n",
       "22  96525DA6 2018-07-23   28     82511.24         NaN   8206.0  15019.0   \n",
       "24  EC10469C 2018-12-27   28     73618.75         NaN   2808.0  22831.0   \n",
       "..       ...        ...  ...          ...         ...      ...      ...   \n",
       "37  FA01676F 2018-10-08   58     66947.30     52549.0  12800.0  30024.0   \n",
       "47  68C55974 2018-03-04   58     95038.14     66796.0  33764.0   5042.0   \n",
       "49  0F0884F6 2018-08-03   59     84505.81     47824.0   8063.0   1165.0   \n",
       "94  A731C34E 2017-11-13   59     95352.02     84065.0  12061.0  15742.0   \n",
       "32  8D08495A 2018-08-08   63     89138.52     60795.0  53880.0   1325.0   \n",
       "\n",
       "     fund_C    fund_D account_opened last_transaction acct_year  \n",
       "19   1039.0   5562.00     2018-03-20         15-11-19      2018  \n",
       "35  11717.0  33493.00     2017-04-14           5/8/18      2017  \n",
       "99   6714.0   5333.00     2017-01-08           4/8/19      2017  \n",
       "22   5559.6   6182.00     2018-07-23           7/8/18      2018  \n",
       "24    958.0  22380.00     2018-12-27           8/6/18      2018  \n",
       "..      ...       ...            ...              ...       ...  \n",
       "37   2082.0   7643.00     2018-10-08         23-07-19      2018  \n",
       "47  10659.0  19237.41     2018-03-04         25-09-18      2018  \n",
       "49  38319.0    277.00     2018-08-03         24-08-19      2018  \n",
       "94  35725.0  20537.00     2017-11-13         13-01-19      2017  \n",
       "32   2105.0   3485.00     2018-08-08           5/2/19      2018  \n",
       "\n",
       "[100 rows x 12 columns]"
      ]
     },
     "execution_count": 57,
     "metadata": {},
     "output_type": "execute_result"
    }
   ],
   "source": [
    "consistent_ages = banking[age_equ]\n",
    "inconsistent_ages = banking[~age_equ]\n",
    "inconsistent_ages"
   ]
  },
  {
   "cell_type": "markdown",
   "id": "5d05c520",
   "metadata": {},
   "source": [
    "## missing value"
   ]
  },
  {
   "cell_type": "code",
   "execution_count": 58,
   "id": "1c7b19b3",
   "metadata": {},
   "outputs": [
    {
     "data": {
      "text/plain": [
       "cust_id              0\n",
       "birth_date           0\n",
       "Age                  0\n",
       "acct_amount          0\n",
       "inv_amount          15\n",
       "fund_A               0\n",
       "fund_B               0\n",
       "fund_C               0\n",
       "fund_D               0\n",
       "account_opened       0\n",
       "last_transaction     0\n",
       "acct_year            0\n",
       "dtype: int64"
      ]
     },
     "execution_count": 58,
     "metadata": {},
     "output_type": "execute_result"
    }
   ],
   "source": [
    "# check by column\n",
    "banking.isna().sum(axis=0)"
   ]
  },
  {
   "cell_type": "code",
   "execution_count": 59,
   "id": "603d576a",
   "metadata": {},
   "outputs": [],
   "source": [
    "import missingno as msno"
   ]
  },
  {
   "cell_type": "code",
   "execution_count": 60,
   "id": "41b98df0",
   "metadata": {
    "scrolled": true
   },
   "outputs": [
    {
     "data": {
      "text/plain": [
       "<AxesSubplot:>"
      ]
     },
     "execution_count": 60,
     "metadata": {},
     "output_type": "execute_result"
    },
    {
     "data": {
      "image/png": "[encoded data removed]",
      "text/plain": [
       "<Figure size 1800x720 with 2 Axes>"
      ]
     },
     "metadata": {
      "needs_background": "light"
     },
     "output_type": "display_data"
    }
   ],
   "source": [
    "msno.matrix(banking)"
   ]
  },
  {
   "cell_type": "code",
   "execution_count": 61,
   "id": "470a006b",
   "metadata": {},
   "outputs": [
    {
     "data": {
      "text/plain": [
       "<AxesSubplot:>"
      ]
     },
     "execution_count": 61,
     "metadata": {},
     "output_type": "execute_result"
    },
    {
     "data": {
      "image/png": "[encoded data removed]",
      "text/plain": [
       "<Figure size 1800x720 with 2 Axes>"
      ]
     },
     "metadata": {
      "needs_background": "light"
     },
     "output_type": "display_data"
    }
   ],
   "source": [
    "msno.matrix(banking.sort_values(by='Age', ascending=True))"
   ]
  },
  {
   "cell_type": "markdown",
   "id": "bd561e5c",
   "metadata": {},
   "source": [
    "## dropna() & fillna()"
   ]
  },
  {
   "cell_type": "code",
   "execution_count": 62,
   "id": "411af948",
   "metadata": {},
   "outputs": [],
   "source": [
    "banking_fullid = banking.dropna(subset = ['cust_id'])\n",
    "acct_imp = banking_fullid['inv_amount'] * 5"
   ]
  },
  {
   "cell_type": "code",
   "execution_count": 63,
   "id": "2148b5c0",
   "metadata": {},
   "outputs": [
    {
     "data": {
      "text/html": [
       "<div>\n",
       "<style scoped>\n",
       "    .dataframe tbody tr th:only-of-type {\n",
       "        vertical-align: middle;\n",
       "    }\n",
       "\n",
       "    .dataframe tbody tr th {\n",
       "        vertical-align: top;\n",
       "    }\n",
       "\n",
       "    .dataframe thead th {\n",
       "        text-align: right;\n",
       "    }\n",
       "</style>\n",
       "<table border=\"1\" class=\"dataframe\">\n",
       "  <thead>\n",
       "    <tr style=\"text-align: right;\">\n",
       "      <th></th>\n",
       "      <th>cust_id</th>\n",
       "      <th>birth_date</th>\n",
       "      <th>Age</th>\n",
       "      <th>acct_amount</th>\n",
       "      <th>inv_amount</th>\n",
       "      <th>fund_A</th>\n",
       "      <th>fund_B</th>\n",
       "      <th>fund_C</th>\n",
       "      <th>fund_D</th>\n",
       "      <th>account_opened</th>\n",
       "      <th>last_transaction</th>\n",
       "      <th>acct_year</th>\n",
       "    </tr>\n",
       "  </thead>\n",
       "  <tbody>\n",
       "    <tr>\n",
       "      <th>19</th>\n",
       "      <td>DEB87C87</td>\n",
       "      <td>2018-03-20</td>\n",
       "      <td>27</td>\n",
       "      <td>64944.62</td>\n",
       "      <td>NaN</td>\n",
       "      <td>11828.0</td>\n",
       "      <td>13372.0</td>\n",
       "      <td>1039.0</td>\n",
       "      <td>5562.0</td>\n",
       "      <td>2018-03-20</td>\n",
       "      <td>15-11-19</td>\n",
       "      <td>2018</td>\n",
       "    </tr>\n",
       "    <tr>\n",
       "      <th>35</th>\n",
       "      <td>078C654F</td>\n",
       "      <td>2017-04-14</td>\n",
       "      <td>27</td>\n",
       "      <td>87312.64</td>\n",
       "      <td>NaN</td>\n",
       "      <td>3684.0</td>\n",
       "      <td>17635.0</td>\n",
       "      <td>11717.0</td>\n",
       "      <td>33493.0</td>\n",
       "      <td>2017-04-14</td>\n",
       "      <td>5/8/18</td>\n",
       "      <td>2017</td>\n",
       "    </tr>\n",
       "    <tr>\n",
       "      <th>99</th>\n",
       "      <td>AC91D689</td>\n",
       "      <td>2017-01-08</td>\n",
       "      <td>27</td>\n",
       "      <td>99490.61</td>\n",
       "      <td>NaN</td>\n",
       "      <td>2184.0</td>\n",
       "      <td>17918.0</td>\n",
       "      <td>6714.0</td>\n",
       "      <td>5333.0</td>\n",
       "      <td>2017-01-08</td>\n",
       "      <td>4/8/19</td>\n",
       "      <td>2017</td>\n",
       "    </tr>\n",
       "    <tr>\n",
       "      <th>22</th>\n",
       "      <td>96525DA6</td>\n",
       "      <td>2018-07-23</td>\n",
       "      <td>28</td>\n",
       "      <td>82511.24</td>\n",
       "      <td>NaN</td>\n",
       "      <td>8206.0</td>\n",
       "      <td>15019.0</td>\n",
       "      <td>5559.6</td>\n",
       "      <td>6182.0</td>\n",
       "      <td>2018-07-23</td>\n",
       "      <td>7/8/18</td>\n",
       "      <td>2018</td>\n",
       "    </tr>\n",
       "    <tr>\n",
       "      <th>24</th>\n",
       "      <td>EC10469C</td>\n",
       "      <td>2018-12-27</td>\n",
       "      <td>28</td>\n",
       "      <td>73618.75</td>\n",
       "      <td>NaN</td>\n",
       "      <td>2808.0</td>\n",
       "      <td>22831.0</td>\n",
       "      <td>958.0</td>\n",
       "      <td>22380.0</td>\n",
       "      <td>2018-12-27</td>\n",
       "      <td>8/6/18</td>\n",
       "      <td>2018</td>\n",
       "    </tr>\n",
       "  </tbody>\n",
       "</table>\n",
       "</div>"
      ],
      "text/plain": [
       "     cust_id birth_date  Age  acct_amount  inv_amount   fund_A   fund_B  \\\n",
       "19  DEB87C87 2018-03-20   27     64944.62         NaN  11828.0  13372.0   \n",
       "35  078C654F 2017-04-14   27     87312.64         NaN   3684.0  17635.0   \n",
       "99  AC91D689 2017-01-08   27     99490.61         NaN   2184.0  17918.0   \n",
       "22  96525DA6 2018-07-23   28     82511.24         NaN   8206.0  15019.0   \n",
       "24  EC10469C 2018-12-27   28     73618.75         NaN   2808.0  22831.0   \n",
       "\n",
       "     fund_C   fund_D account_opened last_transaction acct_year  \n",
       "19   1039.0   5562.0     2018-03-20         15-11-19      2018  \n",
       "35  11717.0  33493.0     2017-04-14           5/8/18      2017  \n",
       "99   6714.0   5333.0     2017-01-08           4/8/19      2017  \n",
       "22   5559.6   6182.0     2018-07-23           7/8/18      2018  \n",
       "24    958.0  22380.0     2018-12-27           8/6/18      2018  "
      ]
     },
     "execution_count": 63,
     "metadata": {},
     "output_type": "execute_result"
    }
   ],
   "source": [
    "banking_imputed = banking_fullid.fillna({'acct_amount': acct_imp})\n",
    "banking_imputed.head(5)"
   ]
  },
  {
   "cell_type": "markdown",
   "id": "0f401b7e",
   "metadata": {},
   "source": [
    "# 4. Record Linkage"
   ]
  },
  {
   "cell_type": "markdown",
   "id": "1043f513",
   "metadata": {},
   "source": [
    "## Similarity"
   ]
  },
  {
   "cell_type": "code",
   "execution_count": 64,
   "id": "e8248fbe",
   "metadata": {},
   "outputs": [],
   "source": [
    "from fuzzywuzzy import process"
   ]
  },
  {
   "cell_type": "code",
   "execution_count": 65,
   "id": "6bdf57d8",
   "metadata": {},
   "outputs": [
    {
     "data": {
      "text/html": [
       "<div>\n",
       "<style scoped>\n",
       "    .dataframe tbody tr th:only-of-type {\n",
       "        vertical-align: middle;\n",
       "    }\n",
       "\n",
       "    .dataframe tbody tr th {\n",
       "        vertical-align: top;\n",
       "    }\n",
       "\n",
       "    .dataframe thead th {\n",
       "        text-align: right;\n",
       "    }\n",
       "</style>\n",
       "<table border=\"1\" class=\"dataframe\">\n",
       "  <thead>\n",
       "    <tr style=\"text-align: right;\">\n",
       "      <th></th>\n",
       "      <th>name</th>\n",
       "      <th>addr</th>\n",
       "      <th>city</th>\n",
       "      <th>phone</th>\n",
       "      <th>type</th>\n",
       "    </tr>\n",
       "  </thead>\n",
       "  <tbody>\n",
       "    <tr>\n",
       "      <th>0</th>\n",
       "      <td>arnie morton's of chicago</td>\n",
       "      <td>435 s. la cienega blv .</td>\n",
       "      <td>los angeles</td>\n",
       "      <td>3102461501</td>\n",
       "      <td>american</td>\n",
       "    </tr>\n",
       "    <tr>\n",
       "      <th>1</th>\n",
       "      <td>art's delicatessen</td>\n",
       "      <td>12224 ventura blvd.</td>\n",
       "      <td>studio city</td>\n",
       "      <td>8187621221</td>\n",
       "      <td>american</td>\n",
       "    </tr>\n",
       "    <tr>\n",
       "      <th>2</th>\n",
       "      <td>campanile</td>\n",
       "      <td>624 s. la brea ave.</td>\n",
       "      <td>los angeles</td>\n",
       "      <td>2139381447</td>\n",
       "      <td>american</td>\n",
       "    </tr>\n",
       "    <tr>\n",
       "      <th>3</th>\n",
       "      <td>fenix</td>\n",
       "      <td>8358 sunset blvd. west</td>\n",
       "      <td>hollywood</td>\n",
       "      <td>2138486677</td>\n",
       "      <td>american</td>\n",
       "    </tr>\n",
       "    <tr>\n",
       "      <th>4</th>\n",
       "      <td>grill on the alley</td>\n",
       "      <td>9560 dayton way</td>\n",
       "      <td>los angeles</td>\n",
       "      <td>3102760615</td>\n",
       "      <td>american</td>\n",
       "    </tr>\n",
       "  </tbody>\n",
       "</table>\n",
       "</div>"
      ],
      "text/plain": [
       "                        name                       addr         city  \\\n",
       "0  arnie morton's of chicago   435 s. la cienega blv .   los angeles   \n",
       "1         art's delicatessen       12224 ventura blvd.   studio city   \n",
       "2                  campanile       624 s. la brea ave.   los angeles   \n",
       "3                      fenix    8358 sunset blvd. west     hollywood   \n",
       "4         grill on the alley           9560 dayton way   los angeles   \n",
       "\n",
       "        phone      type  \n",
       "0  3102461501  american  \n",
       "1  8187621221  american  \n",
       "2  2139381447  american  \n",
       "3  2138486677  american  \n",
       "4  3102760615  american  "
      ]
     },
     "execution_count": 65,
     "metadata": {},
     "output_type": "execute_result"
    }
   ],
   "source": [
    "restaurants = pd.read_csv('restaurants_L2.csv', index_col = 0)\n",
    "restaurants.head(5)"
   ]
  },
  {
   "cell_type": "code",
   "execution_count": 66,
   "id": "5b248da9",
   "metadata": {},
   "outputs": [
    {
     "data": {
      "text/html": [
       "<div>\n",
       "<style scoped>\n",
       "    .dataframe tbody tr th:only-of-type {\n",
       "        vertical-align: middle;\n",
       "    }\n",
       "\n",
       "    .dataframe tbody tr th {\n",
       "        vertical-align: top;\n",
       "    }\n",
       "\n",
       "    .dataframe thead th {\n",
       "        text-align: right;\n",
       "    }\n",
       "</style>\n",
       "<table border=\"1\" class=\"dataframe\">\n",
       "  <thead>\n",
       "    <tr style=\"text-align: right;\">\n",
       "      <th></th>\n",
       "      <th>name</th>\n",
       "      <th>addr</th>\n",
       "      <th>city</th>\n",
       "      <th>phone</th>\n",
       "      <th>type</th>\n",
       "    </tr>\n",
       "  </thead>\n",
       "  <tbody>\n",
       "    <tr>\n",
       "      <th>0</th>\n",
       "      <td>kokomo</td>\n",
       "      <td>6333 w. third st.</td>\n",
       "      <td>la</td>\n",
       "      <td>2139330773</td>\n",
       "      <td>american</td>\n",
       "    </tr>\n",
       "    <tr>\n",
       "      <th>1</th>\n",
       "      <td>feenix</td>\n",
       "      <td>8358 sunset blvd. west</td>\n",
       "      <td>hollywood</td>\n",
       "      <td>2138486677</td>\n",
       "      <td>american</td>\n",
       "    </tr>\n",
       "    <tr>\n",
       "      <th>2</th>\n",
       "      <td>parkway</td>\n",
       "      <td>510 s. arroyo pkwy .</td>\n",
       "      <td>pasadena</td>\n",
       "      <td>8187951001</td>\n",
       "      <td>californian</td>\n",
       "    </tr>\n",
       "    <tr>\n",
       "      <th>3</th>\n",
       "      <td>r-23</td>\n",
       "      <td>923 e. third st.</td>\n",
       "      <td>los angeles</td>\n",
       "      <td>2136877178</td>\n",
       "      <td>japanese</td>\n",
       "    </tr>\n",
       "    <tr>\n",
       "      <th>4</th>\n",
       "      <td>gumbo</td>\n",
       "      <td>6333 w. third st.</td>\n",
       "      <td>la</td>\n",
       "      <td>2139330358</td>\n",
       "      <td>cajun/creole</td>\n",
       "    </tr>\n",
       "  </tbody>\n",
       "</table>\n",
       "</div>"
      ],
      "text/plain": [
       "      name                      addr         city       phone          type\n",
       "0   kokomo         6333 w. third st.           la  2139330773      american\n",
       "1   feenix   8358 sunset blvd. west     hollywood  2138486677      american\n",
       "2  parkway      510 s. arroyo pkwy .     pasadena  8187951001   californian\n",
       "3     r-23          923 e. third st.  los angeles  2136877178      japanese\n",
       "4    gumbo         6333 w. third st.           la  2139330358  cajun/creole"
      ]
     },
     "execution_count": 66,
     "metadata": {},
     "output_type": "execute_result"
    }
   ],
   "source": [
    "restaurants_new = pd.read_csv('restaurants_L2_dirty.csv', index_col=0)\n",
    "restaurants_new.head(5)"
   ]
  },
  {
   "cell_type": "code",
   "execution_count": 67,
   "id": "b1116102",
   "metadata": {},
   "outputs": [
    {
     "data": {
      "text/plain": [
       "array(['american', 'asian', 'italian', 'coffeebar', 'mexican',\n",
       "       'southwestern', 'steakhouses', 'southern', 'cajun'], dtype=object)"
      ]
     },
     "execution_count": 67,
     "metadata": {},
     "output_type": "execute_result"
    }
   ],
   "source": [
    "unique_types = restaurants.type.unique()\n",
    "unique_types"
   ]
  },
  {
   "cell_type": "markdown",
   "id": "7911b0d0",
   "metadata": {},
   "source": [
    "- Calculate similarity of 'asian' to all values in `unique_types`"
   ]
  },
  {
   "cell_type": "code",
   "execution_count": 68,
   "id": "2ae7625e",
   "metadata": {},
   "outputs": [
    {
     "data": {
      "text/plain": [
       "[('asian', 100),\n",
       " ('italian', 67),\n",
       " ('american', 62),\n",
       " ('mexican', 50),\n",
       " ('cajun', 40),\n",
       " ('southwestern', 36),\n",
       " ('southern', 31),\n",
       " ('steakhouses', 25),\n",
       " ('coffeebar', 18)]"
      ]
     },
     "execution_count": 68,
     "metadata": {},
     "output_type": "execute_result"
    }
   ],
   "source": [
    "process.extract('asian', unique_types, limit = len(unique_types))"
   ]
  },
  {
   "cell_type": "code",
   "execution_count": 69,
   "id": "728a7925",
   "metadata": {},
   "outputs": [
    {
     "data": {
      "text/plain": [
       "[('italian', 100, 6),\n",
       " ('italian', 100, 10),\n",
       " ('italian', 100, 11),\n",
       " ('italian', 100, 16),\n",
       " ('italian', 100, 19)]"
      ]
     },
     "execution_count": 69,
     "metadata": {},
     "output_type": "execute_result"
    }
   ],
   "source": [
    "matches = process.extract('italian', restaurants.type, limit=restaurants.type.shape[0])\n",
    "matches[0:5]"
   ]
  },
  {
   "cell_type": "markdown",
   "id": "ee86e6dd",
   "metadata": {},
   "source": [
    "- Reassign similar `type`"
   ]
  },
  {
   "cell_type": "code",
   "execution_count": 70,
   "id": "81b21bc5",
   "metadata": {},
   "outputs": [],
   "source": [
    "for match in matches:\n",
    "    if(match[1] >= 80):\n",
    "        restaurants.loc[restaurants.type == match[0], 'type'] = 'italian'"
   ]
  },
  {
   "cell_type": "code",
   "execution_count": 71,
   "id": "4888ce2e",
   "metadata": {},
   "outputs": [],
   "source": [
    "categories = ['italian', 'asian', 'american']"
   ]
  },
  {
   "cell_type": "code",
   "execution_count": 72,
   "id": "0537b93e",
   "metadata": {},
   "outputs": [],
   "source": [
    "for cat in categories:\n",
    "    matches = process.extract(cat, restaurants['type'], limit = len(restaurants.type))\n",
    "    for match in matches:\n",
    "        if match[1] >= 70:\n",
    "            restaurants.loc[restaurants['type'] == match[0], 'type'] = cat"
   ]
  },
  {
   "cell_type": "code",
   "execution_count": 73,
   "id": "7acbca4d",
   "metadata": {},
   "outputs": [
    {
     "data": {
      "text/plain": [
       "array(['american', 'asian', 'italian', 'coffeebar', 'southwestern',\n",
       "       'steakhouses', 'southern', 'cajun'], dtype=object)"
      ]
     },
     "execution_count": 73,
     "metadata": {},
     "output_type": "execute_result"
    }
   ],
   "source": [
    "restaurants.type.unique()"
   ]
  },
  {
   "cell_type": "markdown",
   "id": "f645ea63",
   "metadata": {},
   "source": [
    "## RecordLinkage"
   ]
  },
  {
   "cell_type": "code",
   "execution_count": 74,
   "id": "9d5e8ec2",
   "metadata": {},
   "outputs": [],
   "source": [
    "# instantiate an indexing object\n",
    "import recordlinkage\n",
    "indexer = recordlinkage.Index()"
   ]
  },
  {
   "cell_type": "code",
   "execution_count": 75,
   "id": "7a49be6c",
   "metadata": {},
   "outputs": [
    {
     "data": {
      "text/plain": [
       "<Index>"
      ]
     },
     "execution_count": 75,
     "metadata": {},
     "output_type": "execute_result"
    }
   ],
   "source": [
    "# block pairing on 'type' column\n",
    "indexer.block('type')"
   ]
  },
  {
   "cell_type": "code",
   "execution_count": 76,
   "id": "27bb62f7",
   "metadata": {},
   "outputs": [
    {
     "data": {
      "text/plain": [
       "MultiIndex([(  0,  0),\n",
       "            (  0,  1),\n",
       "            (  0,  7),\n",
       "            (  0, 12),\n",
       "            (  0, 13),\n",
       "            (  0, 20),\n",
       "            (  0, 27),\n",
       "            (  0, 28),\n",
       "            (  0, 39),\n",
       "            (  0, 40),\n",
       "            ...\n",
       "            (221, 55),\n",
       "            (230, 55),\n",
       "            (233, 55),\n",
       "            (238, 55),\n",
       "            (241, 55),\n",
       "            ( 40, 18),\n",
       "            (281, 18),\n",
       "            (288, 18),\n",
       "            (302, 18),\n",
       "            (308, 18)],\n",
       "           length=3784)"
      ]
     },
     "execution_count": 76,
     "metadata": {},
     "output_type": "execute_result"
    }
   ],
   "source": [
    "# generate pairs\n",
    "pairs = indexer.index(restaurants, restaurants_new)\n",
    "pairs"
   ]
  },
  {
   "cell_type": "code",
   "execution_count": 77,
   "id": "895eb442",
   "metadata": {},
   "outputs": [],
   "source": [
    "# Create a comparison object\n",
    "comp_cl = recordlinkage.Compare()"
   ]
  },
  {
   "cell_type": "code",
   "execution_count": 78,
   "id": "85e06eef",
   "metadata": {},
   "outputs": [
    {
     "data": {
      "text/plain": [
       "<Compare>"
      ]
     },
     "execution_count": 78,
     "metadata": {},
     "output_type": "execute_result"
    }
   ],
   "source": [
    "# set exactly same columns\n",
    "comp_cl.exact('city', 'city', label = 'city')\n",
    "comp_cl.exact('type', 'type', label = 'type')\n",
    "# set similar columns\n",
    "comp_cl.string('name', 'name', label = 'name', threshold = 0.8)"
   ]
  },
  {
   "cell_type": "code",
   "execution_count": 79,
   "id": "707913b5",
   "metadata": {},
   "outputs": [
    {
     "data": {
      "text/html": [
       "<div>\n",
       "<style scoped>\n",
       "    .dataframe tbody tr th:only-of-type {\n",
       "        vertical-align: middle;\n",
       "    }\n",
       "\n",
       "    .dataframe tbody tr th {\n",
       "        vertical-align: top;\n",
       "    }\n",
       "\n",
       "    .dataframe thead th {\n",
       "        text-align: right;\n",
       "    }\n",
       "</style>\n",
       "<table border=\"1\" class=\"dataframe\">\n",
       "  <thead>\n",
       "    <tr style=\"text-align: right;\">\n",
       "      <th></th>\n",
       "      <th></th>\n",
       "      <th>city</th>\n",
       "      <th>type</th>\n",
       "      <th>name</th>\n",
       "    </tr>\n",
       "  </thead>\n",
       "  <tbody>\n",
       "    <tr>\n",
       "      <th rowspan=\"5\" valign=\"top\">0</th>\n",
       "      <th>0</th>\n",
       "      <td>0</td>\n",
       "      <td>1</td>\n",
       "      <td>0.0</td>\n",
       "    </tr>\n",
       "    <tr>\n",
       "      <th>1</th>\n",
       "      <td>0</td>\n",
       "      <td>1</td>\n",
       "      <td>0.0</td>\n",
       "    </tr>\n",
       "    <tr>\n",
       "      <th>7</th>\n",
       "      <td>0</td>\n",
       "      <td>1</td>\n",
       "      <td>0.0</td>\n",
       "    </tr>\n",
       "    <tr>\n",
       "      <th>12</th>\n",
       "      <td>0</td>\n",
       "      <td>1</td>\n",
       "      <td>0.0</td>\n",
       "    </tr>\n",
       "    <tr>\n",
       "      <th>13</th>\n",
       "      <td>0</td>\n",
       "      <td>1</td>\n",
       "      <td>0.0</td>\n",
       "    </tr>\n",
       "    <tr>\n",
       "      <th>...</th>\n",
       "      <th>...</th>\n",
       "      <td>...</td>\n",
       "      <td>...</td>\n",
       "      <td>...</td>\n",
       "    </tr>\n",
       "    <tr>\n",
       "      <th>40</th>\n",
       "      <th>18</th>\n",
       "      <td>0</td>\n",
       "      <td>1</td>\n",
       "      <td>0.0</td>\n",
       "    </tr>\n",
       "    <tr>\n",
       "      <th>281</th>\n",
       "      <th>18</th>\n",
       "      <td>0</td>\n",
       "      <td>1</td>\n",
       "      <td>0.0</td>\n",
       "    </tr>\n",
       "    <tr>\n",
       "      <th>288</th>\n",
       "      <th>18</th>\n",
       "      <td>0</td>\n",
       "      <td>1</td>\n",
       "      <td>0.0</td>\n",
       "    </tr>\n",
       "    <tr>\n",
       "      <th>302</th>\n",
       "      <th>18</th>\n",
       "      <td>0</td>\n",
       "      <td>1</td>\n",
       "      <td>0.0</td>\n",
       "    </tr>\n",
       "    <tr>\n",
       "      <th>308</th>\n",
       "      <th>18</th>\n",
       "      <td>0</td>\n",
       "      <td>1</td>\n",
       "      <td>0.0</td>\n",
       "    </tr>\n",
       "  </tbody>\n",
       "</table>\n",
       "<p>3784 rows × 3 columns</p>\n",
       "</div>"
      ],
      "text/plain": [
       "        city  type  name\n",
       "0   0      0     1   0.0\n",
       "    1      0     1   0.0\n",
       "    7      0     1   0.0\n",
       "    12     0     1   0.0\n",
       "    13     0     1   0.0\n",
       "...      ...   ...   ...\n",
       "40  18     0     1   0.0\n",
       "281 18     0     1   0.0\n",
       "288 18     0     1   0.0\n",
       "302 18     0     1   0.0\n",
       "308 18     0     1   0.0\n",
       "\n",
       "[3784 rows x 3 columns]"
      ]
     },
     "execution_count": 79,
     "metadata": {},
     "output_type": "execute_result"
    }
   ],
   "source": [
    "potential_matches = comp_cl.compute(pairs, restaurants, restaurants_new)\n",
    "potential_matches"
   ]
  },
  {
   "cell_type": "code",
   "execution_count": 80,
   "id": "19f468d3",
   "metadata": {},
   "outputs": [
    {
     "data": {
      "text/html": [
       "<div>\n",
       "<style scoped>\n",
       "    .dataframe tbody tr th:only-of-type {\n",
       "        vertical-align: middle;\n",
       "    }\n",
       "\n",
       "    .dataframe tbody tr th {\n",
       "        vertical-align: top;\n",
       "    }\n",
       "\n",
       "    .dataframe thead th {\n",
       "        text-align: right;\n",
       "    }\n",
       "</style>\n",
       "<table border=\"1\" class=\"dataframe\">\n",
       "  <thead>\n",
       "    <tr style=\"text-align: right;\">\n",
       "      <th></th>\n",
       "      <th></th>\n",
       "      <th>city</th>\n",
       "      <th>type</th>\n",
       "      <th>name</th>\n",
       "    </tr>\n",
       "  </thead>\n",
       "  <tbody>\n",
       "    <tr>\n",
       "      <th>0</th>\n",
       "      <th>40</th>\n",
       "      <td>1</td>\n",
       "      <td>1</td>\n",
       "      <td>1.0</td>\n",
       "    </tr>\n",
       "    <tr>\n",
       "      <th>1</th>\n",
       "      <th>28</th>\n",
       "      <td>1</td>\n",
       "      <td>1</td>\n",
       "      <td>1.0</td>\n",
       "    </tr>\n",
       "    <tr>\n",
       "      <th>2</th>\n",
       "      <th>74</th>\n",
       "      <td>1</td>\n",
       "      <td>1</td>\n",
       "      <td>1.0</td>\n",
       "    </tr>\n",
       "    <tr>\n",
       "      <th>3</th>\n",
       "      <th>1</th>\n",
       "      <td>1</td>\n",
       "      <td>1</td>\n",
       "      <td>1.0</td>\n",
       "    </tr>\n",
       "    <tr>\n",
       "      <th>4</th>\n",
       "      <th>53</th>\n",
       "      <td>1</td>\n",
       "      <td>1</td>\n",
       "      <td>1.0</td>\n",
       "    </tr>\n",
       "  </tbody>\n",
       "</table>\n",
       "</div>"
      ],
      "text/plain": [
       "      city  type  name\n",
       "0 40     1     1   1.0\n",
       "1 28     1     1   1.0\n",
       "2 74     1     1   1.0\n",
       "3 1      1     1   1.0\n",
       "4 53     1     1   1.0"
      ]
     },
     "execution_count": 80,
     "metadata": {},
     "output_type": "execute_result"
    }
   ],
   "source": [
    "matches = potential_matches[potential_matches.sum(axis=1) >= 3]\n",
    "matches.head(5)"
   ]
  },
  {
   "cell_type": "code",
   "execution_count": 81,
   "id": "a83c52e8",
   "metadata": {},
   "outputs": [
    {
     "data": {
      "text/plain": [
       "Int64Index([40, 28, 74,  1, 53, 43, 50,  7, 67, 12, 20, 27, 65, 79, 26, 71, 73,\n",
       "            75, 21, 57, 47, 55],\n",
       "           dtype='int64')"
      ]
     },
     "execution_count": 81,
     "metadata": {},
     "output_type": "execute_result"
    }
   ],
   "source": [
    "matching_indices = matches.index.get_level_values(1)\n",
    "matching_indices"
   ]
  },
  {
   "cell_type": "code",
   "execution_count": 82,
   "id": "82a5651d",
   "metadata": {},
   "outputs": [],
   "source": [
    "# subset restaurants that are in restaurants_new but not in restaurants\n",
    "non_dup = restaurants_new[~restaurants_new.index.isin(matching_indices)]"
   ]
  },
  {
   "cell_type": "code",
   "execution_count": 83,
   "id": "71aa9a34",
   "metadata": {},
   "outputs": [],
   "source": [
    "full_restaurants = restaurants.append(non_dup)"
   ]
  },
  {
   "cell_type": "code",
   "execution_count": 84,
   "id": "5ea80a70",
   "metadata": {},
   "outputs": [
    {
     "data": {
      "text/plain": [
       "(396, 5)"
      ]
     },
     "execution_count": 84,
     "metadata": {},
     "output_type": "execute_result"
    }
   ],
   "source": [
    "full_restaurants.shape"
   ]
  },
  {
   "cell_type": "code",
   "execution_count": null,
   "id": "0a1d33db",
   "metadata": {},
   "outputs": [],
   "source": []
  }
 ],
 "metadata": {
  "kernelspec": {
   "display_name": "Python 3",
   "language": "python",
   "name": "python3"
  },
  "language_info": {
   "codemirror_mode": {
    "name": "ipython",
    "version": 3
   },
   "file_extension": ".py",
   "mimetype": "text/x-python",
   "name": "python",
   "nbconvert_exporter": "python",
   "pygments_lexer": "ipython3",
   "version": "3.8.8"
  }
 },
 "nbformat": 4,
 "nbformat_minor": 5
}
